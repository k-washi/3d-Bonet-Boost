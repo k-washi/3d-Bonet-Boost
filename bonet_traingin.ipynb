{
  "nbformat": 4,
  "nbformat_minor": 0,
  "metadata": {
    "colab": {
      "name": "Untitled",
      "provenance": [],
      "collapsed_sections": [],
      "authorship_tag": "ABX9TyOoNwJdcB7u5QEv5xw1VOP6",
      "include_colab_link": true
    },
    "kernelspec": {
      "name": "python3",
      "display_name": "Python 3"
    },
    "accelerator": "GPU"
  },
  "cells": [
    {
      "cell_type": "markdown",
      "metadata": {
        "id": "view-in-github",
        "colab_type": "text"
      },
      "source": [
        "<a href=\"https://colab.research.google.com/github/k-washi/3d-Bonet-Boost/blob/master/bonet_traingin.ipynb\" target=\"_parent\"><img src=\"https://colab.research.google.com/assets/colab-badge.svg\" alt=\"Open In Colab\"/></a>"
      ]
    },
    {
      "cell_type": "markdown",
      "metadata": {
        "id": "XDnzS0fy3eA5",
        "colab_type": "text"
      },
      "source": [
        "# 3D - BoNetのスタート\n",
        "\n",
        "データセットは、[Stanford 2D-3D-Semantics Dataset](http://buildingparser.stanford.edu/dataset.html)\n",
        "\n",
        "h5データへの変更は、[pqhieu/jsis3d](https://github.com/pqhieu/jsis3d/blob/master/scripts/prepare_h5.py)にて提供されている。\n",
        "また、データセットのh5 versionは、以下の3D-BoNetのリポジトリからダウンロードできる。"
      ]
    },
    {
      "cell_type": "markdown",
      "metadata": {
        "id": "6Mt7dRrpwEFJ",
        "colab_type": "text"
      },
      "source": [
        "\n",
        "# 3D-BoNetのインストール\n",
        "[Learning Object Bounding Boxes for 3D Instance Segmentation on Point Clouds](https://arxiv.org/abs/1906.01140)\n",
        "\n",
        "https://github.com/Yang7879/3D-BoNet\n",
        "---\n",
        "\n"
      ]
    },
    {
      "cell_type": "code",
      "metadata": {
        "id": "MNwNreQc_2R1",
        "colab_type": "code",
        "colab": {}
      },
      "source": [
        "!rm -rf 3D-BoNet"
      ],
      "execution_count": 0,
      "outputs": []
    },
    {
      "cell_type": "code",
      "metadata": {
        "id": "-SWOSOzqwBMQ",
        "colab_type": "code",
        "outputId": "99fa6e84-a383-49e6-8e12-72afb96f4377",
        "colab": {
          "base_uri": "https://localhost:8080/",
          "height": 136
        }
      },
      "source": [
        "!git clone https://github.com/k-washi/3D-BoNet.git"
      ],
      "execution_count": 2,
      "outputs": [
        {
          "output_type": "stream",
          "text": [
            "Cloning into '3D-BoNet'...\n",
            "remote: Enumerating objects: 99, done.\u001b[K\n",
            "remote: Counting objects: 100% (99/99), done.\u001b[K\n",
            "remote: Compressing objects: 100% (83/83), done.\u001b[K\n",
            "remote: Total 250 (delta 56), reused 37 (delta 16), pack-reused 151\u001b[K\n",
            "Receiving objects: 100% (250/250), 71.75 MiB | 31.19 MiB/s, done.\n",
            "Resolving deltas: 100% (118/118), done.\n"
          ],
          "name": "stdout"
        }
      ]
    },
    {
      "cell_type": "markdown",
      "metadata": {
        "id": "WOHPX_6twahH",
        "colab_type": "text"
      },
      "source": [
        "# 補助パッケージの取得\n",
        "\n",
        "https://github.com/k-washi/3d-Bonet-Boost"
      ]
    },
    {
      "cell_type": "code",
      "metadata": {
        "id": "zd-Vta1nGPV0",
        "colab_type": "code",
        "colab": {}
      },
      "source": [
        "!rm -rf 3d-Bonet-Boost"
      ],
      "execution_count": 0,
      "outputs": []
    },
    {
      "cell_type": "code",
      "metadata": {
        "id": "IBdX9KGivf9B",
        "colab_type": "code",
        "outputId": "51a9a9ff-b3d6-44c9-ce9a-ea94ba8e5655",
        "colab": {
          "base_uri": "https://localhost:8080/",
          "height": 119
        }
      },
      "source": [
        "!git clone https://github.com/k-washi/3d-Bonet-Boost.git"
      ],
      "execution_count": 7,
      "outputs": [
        {
          "output_type": "stream",
          "text": [
            "Cloning into '3d-Bonet-Boost'...\n",
            "remote: Enumerating objects: 66, done.\u001b[K\n",
            "remote: Counting objects:   1% (1/66)\u001b[K\rremote: Counting objects:   3% (2/66)\u001b[K\rremote: Counting objects:   4% (3/66)\u001b[K\rremote: Counting objects:   6% (4/66)\u001b[K\rremote: Counting objects:   7% (5/66)\u001b[K\rremote: Counting objects:   9% (6/66)\u001b[K\rremote: Counting objects:  10% (7/66)\u001b[K\rremote: Counting objects:  12% (8/66)\u001b[K\rremote: Counting objects:  13% (9/66)\u001b[K\rremote: Counting objects:  15% (10/66)\u001b[K\rremote: Counting objects:  16% (11/66)\u001b[K\rremote: Counting objects:  18% (12/66)\u001b[K\rremote: Counting objects:  19% (13/66)\u001b[K\rremote: Counting objects:  21% (14/66)\u001b[K\rremote: Counting objects:  22% (15/66)\u001b[K\rremote: Counting objects:  24% (16/66)\u001b[K\rremote: Counting objects:  25% (17/66)\u001b[K\rremote: Counting objects:  27% (18/66)\u001b[K\rremote: Counting objects:  28% (19/66)\u001b[K\rremote: Counting objects:  30% (20/66)\u001b[K\rremote: Counting objects:  31% (21/66)\u001b[K\rremote: Counting objects:  33% (22/66)\u001b[K\rremote: Counting objects:  34% (23/66)\u001b[K\rremote: Counting objects:  36% (24/66)\u001b[K\rremote: Counting objects:  37% (25/66)\u001b[K\rremote: Counting objects:  39% (26/66)\u001b[K\rremote: Counting objects:  40% (27/66)\u001b[K\rremote: Counting objects:  42% (28/66)\u001b[K\rremote: Counting objects:  43% (29/66)\u001b[K\rremote: Counting objects:  45% (30/66)\u001b[K\rremote: Counting objects:  46% (31/66)\u001b[K\rremote: Counting objects:  48% (32/66)\u001b[K\rremote: Counting objects:  50% (33/66)\u001b[K\rremote: Counting objects:  51% (34/66)\u001b[K\rremote: Counting objects:  53% (35/66)\u001b[K\rremote: Counting objects:  54% (36/66)\u001b[K\rremote: Counting objects:  56% (37/66)\u001b[K\rremote: Counting objects:  57% (38/66)\u001b[K\rremote: Counting objects:  59% (39/66)\u001b[K\rremote: Counting objects:  60% (40/66)\u001b[K\rremote: Counting objects:  62% (41/66)\u001b[K\rremote: Counting objects:  63% (42/66)\u001b[K\rremote: Counting objects:  65% (43/66)\u001b[K\rremote: Counting objects:  66% (44/66)\u001b[K\rremote: Counting objects:  68% (45/66)\u001b[K\rremote: Counting objects:  69% (46/66)\u001b[K\rremote: Counting objects:  71% (47/66)\u001b[K\rremote: Counting objects:  72% (48/66)\u001b[K\rremote: Counting objects:  74% (49/66)\u001b[K\rremote: Counting objects:  75% (50/66)\u001b[K\rremote: Counting objects:  77% (51/66)\u001b[K\rremote: Counting objects:  78% (52/66)\u001b[K\rremote: Counting objects:  80% (53/66)\u001b[K\rremote: Counting objects:  81% (54/66)\u001b[K\rremote: Counting objects:  83% (55/66)\u001b[K\rremote: Counting objects:  84% (56/66)\u001b[K\rremote: Counting objects:  86% (57/66)\u001b[K\rremote: Counting objects:  87% (58/66)\u001b[K\rremote: Counting objects:  89% (59/66)\u001b[K\rremote: Counting objects:  90% (60/66)\u001b[K\rremote: Counting objects:  92% (61/66)\u001b[K\rremote: Counting objects:  93% (62/66)\u001b[K\rremote: Counting objects:  95% (63/66)\u001b[K\rremote: Counting objects:  96% (64/66)\u001b[K\rremote: Counting objects:  98% (65/66)\u001b[K\rremote: Counting objects: 100% (66/66)\u001b[K\rremote: Counting objects: 100% (66/66), done.\u001b[K\n",
            "remote: Compressing objects:   2% (1/50)\u001b[K\rremote: Compressing objects:   4% (2/50)\u001b[K\rremote: Compressing objects:   6% (3/50)\u001b[K\rremote: Compressing objects:   8% (4/50)\u001b[K\rremote: Compressing objects:  10% (5/50)\u001b[K\rremote: Compressing objects:  12% (6/50)\u001b[K\rremote: Compressing objects:  14% (7/50)\u001b[K\rremote: Compressing objects:  16% (8/50)\u001b[K\rremote: Compressing objects:  18% (9/50)\u001b[K\rremote: Compressing objects:  20% (10/50)\u001b[K\rremote: Compressing objects:  22% (11/50)\u001b[K\rremote: Compressing objects:  24% (12/50)\u001b[K\rremote: Compressing objects:  26% (13/50)\u001b[K\rremote: Compressing objects:  28% (14/50)\u001b[K\rremote: Compressing objects:  30% (15/50)\u001b[K\rremote: Compressing objects:  32% (16/50)\u001b[K\rremote: Compressing objects:  34% (17/50)\u001b[K\rremote: Compressing objects:  36% (18/50)\u001b[K\rremote: Compressing objects:  38% (19/50)\u001b[K\rremote: Compressing objects:  40% (20/50)\u001b[K\rremote: Compressing objects:  42% (21/50)\u001b[K\rremote: Compressing objects:  44% (22/50)\u001b[K\rremote: Compressing objects:  46% (23/50)\u001b[K\rremote: Compressing objects:  48% (24/50)\u001b[K\rremote: Compressing objects:  50% (25/50)\u001b[K\rremote: Compressing objects:  52% (26/50)\u001b[K\rremote: Compressing objects:  54% (27/50)\u001b[K\rremote: Compressing objects:  56% (28/50)\u001b[K\rremote: Compressing objects:  58% (29/50)\u001b[K\rremote: Compressing objects:  60% (30/50)\u001b[K\rremote: Compressing objects:  62% (31/50)\u001b[K\rremote: Compressing objects:  64% (32/50)\u001b[K\rremote: Compressing objects:  66% (33/50)\u001b[K\rremote: Compressing objects:  68% (34/50)\u001b[K\rremote: Compressing objects:  70% (35/50)\u001b[K\rremote: Compressing objects:  72% (36/50)\u001b[K\rremote: Compressing objects:  74% (37/50)\u001b[K\rremote: Compressing objects:  76% (38/50)\u001b[K\rremote: Compressing objects:  78% (39/50)\u001b[K\rremote: Compressing objects:  80% (40/50)\u001b[K\rremote: Compressing objects:  82% (41/50)\u001b[K\rremote: Compressing objects:  84% (42/50)\u001b[K\rremote: Compressing objects:  86% (43/50)\u001b[K\rremote: Compressing objects:  88% (44/50)\u001b[K\rremote: Compressing objects:  90% (45/50)\u001b[K\rremote: Compressing objects:  92% (46/50)\u001b[K\rremote: Compressing objects:  94% (47/50)\u001b[K\rremote: Compressing objects:  96% (48/50)\u001b[K\rremote: Compressing objects:  98% (49/50)\u001b[K\rremote: Compressing objects: 100% (50/50)\u001b[K\rremote: Compressing objects: 100% (50/50), done.\u001b[K\n",
            "Unpacking objects:   1% (1/66)   \rUnpacking objects:   3% (2/66)   \rUnpacking objects:   4% (3/66)   \rUnpacking objects:   6% (4/66)   \rUnpacking objects:   7% (5/66)   \rUnpacking objects:   9% (6/66)   \rUnpacking objects:  10% (7/66)   \rUnpacking objects:  12% (8/66)   \rUnpacking objects:  13% (9/66)   \rremote: Total 66 (delta 39), reused 35 (delta 16), pack-reused 0\u001b[K\n",
            "Unpacking objects:  15% (10/66)   \rUnpacking objects:  16% (11/66)   \rUnpacking objects:  18% (12/66)   \rUnpacking objects:  19% (13/66)   \rUnpacking objects:  21% (14/66)   \rUnpacking objects:  22% (15/66)   \rUnpacking objects:  24% (16/66)   \rUnpacking objects:  25% (17/66)   \rUnpacking objects:  27% (18/66)   \rUnpacking objects:  28% (19/66)   \rUnpacking objects:  30% (20/66)   \rUnpacking objects:  31% (21/66)   \rUnpacking objects:  33% (22/66)   \rUnpacking objects:  34% (23/66)   \rUnpacking objects:  36% (24/66)   \rUnpacking objects:  37% (25/66)   \rUnpacking objects:  39% (26/66)   \rUnpacking objects:  40% (27/66)   \rUnpacking objects:  42% (28/66)   \rUnpacking objects:  43% (29/66)   \rUnpacking objects:  45% (30/66)   \rUnpacking objects:  46% (31/66)   \rUnpacking objects:  48% (32/66)   \rUnpacking objects:  50% (33/66)   \rUnpacking objects:  51% (34/66)   \rUnpacking objects:  53% (35/66)   \rUnpacking objects:  54% (36/66)   \rUnpacking objects:  56% (37/66)   \rUnpacking objects:  57% (38/66)   \rUnpacking objects:  59% (39/66)   \rUnpacking objects:  60% (40/66)   \rUnpacking objects:  62% (41/66)   \rUnpacking objects:  63% (42/66)   \rUnpacking objects:  65% (43/66)   \rUnpacking objects:  66% (44/66)   \rUnpacking objects:  68% (45/66)   \rUnpacking objects:  69% (46/66)   \rUnpacking objects:  71% (47/66)   \rUnpacking objects:  72% (48/66)   \rUnpacking objects:  74% (49/66)   \rUnpacking objects:  75% (50/66)   \rUnpacking objects:  77% (51/66)   \rUnpacking objects:  78% (52/66)   \rUnpacking objects:  80% (53/66)   \rUnpacking objects:  81% (54/66)   \rUnpacking objects:  83% (55/66)   \rUnpacking objects:  84% (56/66)   \rUnpacking objects:  86% (57/66)   \rUnpacking objects:  87% (58/66)   \rUnpacking objects:  89% (59/66)   \rUnpacking objects:  90% (60/66)   \rUnpacking objects:  92% (61/66)   \rUnpacking objects:  93% (62/66)   \rUnpacking objects:  95% (63/66)   \rUnpacking objects:  96% (64/66)   \rUnpacking objects:  98% (65/66)   \rUnpacking objects: 100% (66/66)   \rUnpacking objects: 100% (66/66), done.\n"
          ],
          "name": "stdout"
        }
      ]
    },
    {
      "cell_type": "markdown",
      "metadata": {
        "id": "hKDCDFcGw9aw",
        "colab_type": "text"
      },
      "source": [
        "#python ライブラリの確認\n",
        "\n",
        "tensorflow 1.15"
      ]
    },
    {
      "cell_type": "code",
      "metadata": {
        "id": "BzrvBJrZwATT",
        "colab_type": "code",
        "outputId": "d0464dff-e18f-4277-881c-b299a68dd716",
        "colab": {
          "base_uri": "https://localhost:8080/",
          "height": 224
        }
      },
      "source": [
        "%tensorflow_version 1.x\n",
        "!pip show tensorflow\n",
        "import tensorflow as tf\n",
        "import timeit\n",
        "\n",
        "device_name = tf.test.gpu_device_name()\n",
        "device_name"
      ],
      "execution_count": 3,
      "outputs": [
        {
          "output_type": "stream",
          "text": [
            "Name: tensorflow\n",
            "Version: 1.15.0\n",
            "Summary: TensorFlow is an open source machine learning framework for everyone.\n",
            "Home-page: https://www.tensorflow.org/\n",
            "Author: Google Inc.\n",
            "Author-email: packages@tensorflow.org\n",
            "License: Apache 2.0\n",
            "Location: /usr/local/lib/python3.6/dist-packages\n",
            "Requires: google-pasta, tensorflow-estimator, numpy, six, wrapt, opt-einsum, termcolor, wheel, keras-applications, tensorboard, astor, grpcio, gast, keras-preprocessing, protobuf, absl-py\n",
            "Required-by: stable-baselines, magenta, fancyimpute\n"
          ],
          "name": "stdout"
        },
        {
          "output_type": "execute_result",
          "data": {
            "text/plain": [
              "'/device:GPU:0'"
            ]
          },
          "metadata": {
            "tags": []
          },
          "execution_count": 3
        }
      ]
    },
    {
      "cell_type": "markdown",
      "metadata": {
        "id": "-GWQa-TC23CZ",
        "colab_type": "text"
      },
      "source": [
        "# データセットのダウンロード\n",
        "\n",
        "Google Driveにデータセットを置くと仮定\n",
        "\n",
        "/content/drive/My Drive/data/Data_S3DIS.zip"
      ]
    },
    {
      "cell_type": "code",
      "metadata": {
        "id": "HV673XOM5TB9",
        "colab_type": "code",
        "colab": {
          "base_uri": "https://localhost:8080/",
          "height": 122
        },
        "outputId": "6e115142-cf54-475f-8560-461a841d64d4"
      },
      "source": [
        "from google.colab import drive\n",
        "drive.mount('/content/drive')"
      ],
      "execution_count": 16,
      "outputs": [
        {
          "output_type": "stream",
          "text": [
            "Go to this URL in a browser: https://accounts.google.com/o/oauth2/auth?client_id=947318989803-6bn6qk8qdgf4n4g3pfee6491hc0brc4i.apps.googleusercontent.com&redirect_uri=urn%3aietf%3awg%3aoauth%3a2.0%3aoob&response_type=code&scope=email%20https%3a%2f%2fwww.googleapis.com%2fauth%2fdocs.test%20https%3a%2f%2fwww.googleapis.com%2fauth%2fdrive%20https%3a%2f%2fwww.googleapis.com%2fauth%2fdrive.photos.readonly%20https%3a%2f%2fwww.googleapis.com%2fauth%2fpeopleapi.readonly\n",
            "\n",
            "Enter your authorization code:\n",
            "··········\n",
            "Mounted at /content/drive\n"
          ],
          "name": "stdout"
        }
      ]
    },
    {
      "cell_type": "markdown",
      "metadata": {
        "id": "MM1f2cO4C77H",
        "colab_type": "text"
      },
      "source": [
        "データを解凍"
      ]
    },
    {
      "cell_type": "code",
      "metadata": {
        "id": "FpOKjEhNAzP0",
        "colab_type": "code",
        "colab": {
          "base_uri": "https://localhost:8080/",
          "height": 102
        },
        "outputId": "3ee5cab7-a823-4d88-e2c9-c3cbc672158b"
      },
      "source": [
        "!apt-get -y install p7zip-full"
      ],
      "execution_count": 17,
      "outputs": [
        {
          "output_type": "stream",
          "text": [
            "Reading package lists... Done\n",
            "Building dependency tree       \n",
            "Reading state information... Done\n",
            "p7zip-full is already the newest version (16.02+dfsg-6).\n",
            "0 upgraded, 0 newly installed, 0 to remove and 25 not upgraded.\n"
          ],
          "name": "stdout"
        }
      ]
    },
    {
      "cell_type": "code",
      "metadata": {
        "id": "b5sv_oReAzDL",
        "colab_type": "code",
        "colab": {}
      },
      "source": [
        "!mkdir s3dis\n",
        "!unzip /content/drive/My\\ Drive/data/Data_S3DIS.zip -d s3dis > NILL"
      ],
      "execution_count": 0,
      "outputs": []
    },
    {
      "cell_type": "markdown",
      "metadata": {
        "id": "AWhfCyjYDHBy",
        "colab_type": "text"
      },
      "source": [
        "# 3D-BoNet: Compile tensorflow operation by cuda "
      ]
    },
    {
      "cell_type": "code",
      "metadata": {
        "id": "yOK25VjtCiCg",
        "colab_type": "code",
        "colab": {}
      },
      "source": [
        "!cp 3d-Bonet-Boost/cu_compile_v1.15.py 3D-BoNet/tf_ops/cu_compile.py"
      ],
      "execution_count": 0,
      "outputs": []
    },
    {
      "cell_type": "markdown",
      "metadata": {
        "id": "a-c_LkUBEpGE",
        "colab_type": "text"
      },
      "source": [
        "コンパイルに必要なコマンドを出力"
      ]
    },
    {
      "cell_type": "code",
      "metadata": {
        "id": "zS6GsbOuFET5",
        "colab_type": "code",
        "outputId": "4c48a8ea-2326-4c8d-bbfe-62137140ed42",
        "colab": {
          "base_uri": "https://localhost:8080/",
          "height": 187
        }
      },
      "source": [
        "!nvcc --version\n",
        "!which nvcc\n",
        "\n",
        "!ls -l /usr/lib/x86_64-linux-gnu/libcudnn.so*\n",
        "!ls /usr/lib64-nvidia/libcuda*"
      ],
      "execution_count": 0,
      "outputs": [
        {
          "output_type": "stream",
          "text": [
            "nvcc: NVIDIA (R) Cuda compiler driver\n",
            "Copyright (c) 2005-2018 NVIDIA Corporation\n",
            "Built on Sat_Aug_25_21:08:01_CDT_2018\n",
            "Cuda compilation tools, release 10.0, V10.0.130\n",
            "/usr/local/cuda/bin/nvcc\n",
            "lrwxrwxrwx 1 root root        29 Dec  5 22:54 /usr/lib/x86_64-linux-gnu/libcudnn.so -> /etc/alternatives/libcudnn_so\n",
            "lrwxrwxrwx 1 root root        17 Oct 27 21:49 /usr/lib/x86_64-linux-gnu/libcudnn.so.7 -> libcudnn.so.7.6.5\n",
            "-rw-r--r-- 1 root root 428711256 Oct 27 21:49 /usr/lib/x86_64-linux-gnu/libcudnn.so.7.6.5\n",
            "/usr/lib64-nvidia/libcuda.so\t/usr/lib64-nvidia/libcuda.so.418.67\n",
            "/usr/lib64-nvidia/libcuda.so.1\n"
          ],
          "name": "stdout"
        }
      ]
    },
    {
      "cell_type": "code",
      "metadata": {
        "id": "fcfRkw0EWuap",
        "colab_type": "code",
        "outputId": "43427c50-ab22-4518-a394-8390eb406f8e",
        "colab": {
          "base_uri": "https://localhost:8080/",
          "height": 68
        }
      },
      "source": [
        "!ls /usr/local/cuda-10.1/"
      ],
      "execution_count": 0,
      "outputs": [
        {
          "output_type": "stream",
          "text": [
            "bin\textras\t libnsight  nsightee_plugins  README   src\tversion.txt\n",
            "compat\tinclude  libnvvp    nvml\t      samples  targets\n",
            "doc\tlib64\t LICENSE    nvvm\t      share    tools\n"
          ],
          "name": "stdout"
        }
      ]
    },
    {
      "cell_type": "markdown",
      "metadata": {
        "id": "CszWaSBBPB1P",
        "colab_type": "text"
      },
      "source": [
        "compileに必要なcudaディレクトリとGC上で実行することを引数で与える"
      ]
    },
    {
      "cell_type": "code",
      "metadata": {
        "id": "tCtdiJYG22gQ",
        "colab_type": "code",
        "outputId": "94a978c6-4b91-4816-e707-23d2021bf3b2",
        "colab": {
          "base_uri": "https://localhost:8080/",
          "height": 156
        }
      },
      "source": [
        "!python 3D-BoNet/tf_ops/cu_compile.py --cuda /usr/local/cuda-10.1 --googleColab"
      ],
      "execution_count": 37,
      "outputs": [
        {
          "output_type": "stream",
          "text": [
            "------------------------------\n",
            " \n",
            "!/usr/local/cuda-10.1/bin/nvcc 3D-BoNet/tf_ops/../tf_ops/grouping/tf_grouping_g.cu -o 3D-BoNet/tf_ops/../tf_ops/grouping/tf_grouping_g.cu.o -c -O2 -DGOOGLE_CUDA=1 -x cu -Xcompiler -fPIC\n",
            "!/usr/local/cuda-10.1/bin/nvcc 3D-BoNet/tf_ops/../tf_ops/sampling/tf_sampling_g.cu -o 3D-BoNet/tf_ops/../tf_ops/sampling/tf_sampling_g.cu.o -c -O2 -DGOOGLE_CUDA=1 -x cu -Xcompiler -fPIC\n",
            "!g++ -std=c++11 3D-BoNet/tf_ops/../tf_ops/grouping/tf_grouping.cpp 3D-BoNet/tf_ops/../tf_ops/grouping/tf_grouping_g.cu.o -o 3D-BoNet/tf_ops/../tf_ops/grouping/tf_grouping_so.so -shared -fPIC -I/usr/local/lib/python3.6/dist-packages/tensorflow_core/include -D_GLIBCXX_USE_CXX11_ABI=0 -I /usr/local/cuda-10.1/include -I/usr/local/lib/python3.6/dist-packages/tensorflow_core/include/external/nsync/public -L/usr/local/lib/python3.6/dist-packages/tensorflow_core -l:libtensorflow_framework.so.1 -lcudart -lcuda -L /usr/local/cuda-10.1/lib64 -O2\n",
            "!g++ -std=c++11 3D-BoNet/tf_ops/../tf_ops/sampling/tf_sampling.cpp 3D-BoNet/tf_ops/../tf_ops/sampling/tf_sampling_g.cu.o -o 3D-BoNet/tf_ops/../tf_ops/sampling/tf_sampling_so.so -shared -fPIC -I/usr/local/lib/python3.6/dist-packages/tensorflow_core/include -D_GLIBCXX_USE_CXX11_ABI=0 -I /usr/local/cuda-10.1/include -I/usr/local/lib/python3.6/dist-packages/tensorflow_core/include/external/nsync/public -L/usr/local/lib/python3.6/dist-packages/tensorflow_core -l:libtensorflow_framework.so.1 -lcudart -lcuda -L /usr/local/cuda-10.1/lib64 -O2\n",
            "!g++ -std=c++11 3D-BoNet/tf_ops/../tf_ops/interpolation/tf_interpolate.cpp -o 3D-BoNet/tf_ops/../tf_ops/interpolation/tf_interpolate_so.so -shared -fPIC -I/usr/local/lib/python3.6/dist-packages/tensorflow_core/include -D_GLIBCXX_USE_CXX11_ABI=0 -I /usr/local/cuda-10.1/include -I/usr/local/lib/python3.6/dist-packages/tensorflow_core/include/external/nsync/public -L/usr/local/lib/python3.6/dist-packages/tensorflow_core -l:libtensorflow_framework.so.1 -lcudart -lcuda -L /usr/local/cuda-10.1/lib64 -O2\n"
          ],
          "name": "stdout"
        }
      ]
    },
    {
      "cell_type": "markdown",
      "metadata": {
        "id": "l8FaSPSvPDIW",
        "colab_type": "text"
      },
      "source": [
        "上のpythonの出力コマンドをコピーして実行 (2020/3/9時点では、以下のコマンド)"
      ]
    },
    {
      "cell_type": "code",
      "metadata": {
        "id": "svcbqfPyGpbd",
        "colab_type": "code",
        "colab": {
          "base_uri": "https://localhost:8080/",
          "height": 1000
        },
        "outputId": "77bc0e5c-c4e2-4b4f-8f93-927ea8fa5006"
      },
      "source": [
        "!/usr/local/cuda-10.1/bin/nvcc 3D-BoNet/tf_ops/../tf_ops/grouping/tf_grouping_g.cu -o 3D-BoNet/tf_ops/../tf_ops/grouping/tf_grouping_g.cu.o -c -O2 -DGOOGLE_CUDA=1 -x cu -Xcompiler -fPIC\n",
        "!/usr/local/cuda-10.1/bin/nvcc 3D-BoNet/tf_ops/../tf_ops/sampling/tf_sampling_g.cu -o 3D-BoNet/tf_ops/../tf_ops/sampling/tf_sampling_g.cu.o -c -O2 -DGOOGLE_CUDA=1 -x cu -Xcompiler -fPIC\n",
        "!g++ -std=c++11 3D-BoNet/tf_ops/../tf_ops/grouping/tf_grouping.cpp 3D-BoNet/tf_ops/../tf_ops/grouping/tf_grouping_g.cu.o -o 3D-BoNet/tf_ops/../tf_ops/grouping/tf_grouping_so.so -shared -fPIC -I/usr/local/lib/python3.6/dist-packages/tensorflow_core/include -D_GLIBCXX_USE_CXX11_ABI=0 -I /usr/local/cuda-10.1/include -I/usr/local/lib/python3.6/dist-packages/tensorflow_core/include/external/nsync/public -L/usr/local/lib/python3.6/dist-packages/tensorflow_core -l:libtensorflow_framework.so.1 -lcudart -lcuda -L /usr/local/cuda-10.1/lib64 -O2\n",
        "!g++ -std=c++11 3D-BoNet/tf_ops/../tf_ops/sampling/tf_sampling.cpp 3D-BoNet/tf_ops/../tf_ops/sampling/tf_sampling_g.cu.o -o 3D-BoNet/tf_ops/../tf_ops/sampling/tf_sampling_so.so -shared -fPIC -I/usr/local/lib/python3.6/dist-packages/tensorflow_core/include -D_GLIBCXX_USE_CXX11_ABI=0 -I /usr/local/cuda-10.1/include -I/usr/local/lib/python3.6/dist-packages/tensorflow_core/include/external/nsync/public -L/usr/local/lib/python3.6/dist-packages/tensorflow_core -l:libtensorflow_framework.so.1 -lcudart -lcuda -L /usr/local/cuda-10.1/lib64 -O2\n",
        "!g++ -std=c++11 3D-BoNet/tf_ops/../tf_ops/interpolation/tf_interpolate.cpp -o 3D-BoNet/tf_ops/../tf_ops/interpolation/tf_interpolate_so.so -shared -fPIC -I/usr/local/lib/python3.6/dist-packages/tensorflow_core/include -D_GLIBCXX_USE_CXX11_ABI=0 -I /usr/local/cuda-10.1/include -I/usr/local/lib/python3.6/dist-packages/tensorflow_core/include/external/nsync/public -L/usr/local/lib/python3.6/dist-packages/tensorflow_core -l:libtensorflow_framework.so.1 -lcudart -lcuda -L /usr/local/cuda-10.1/lib64 -O2"
      ],
      "execution_count": 3,
      "outputs": [
        {
          "output_type": "stream",
          "text": [
            "\u001b[01m\u001b[K3D-BoNet/tf_ops/../tf_ops/grouping/tf_grouping.cpp:\u001b[m\u001b[K In lambda function:\n",
            "\u001b[01m\u001b[K3D-BoNet/tf_ops/../tf_ops/grouping/tf_grouping.cpp:22:44:\u001b[m\u001b[K \u001b[01;35m\u001b[Kwarning: \u001b[m\u001b[Kignoring return value of ‘\u001b[01m\u001b[Ktensorflow::Status tensorflow::shape_inference::InferenceContext::WithRank(tensorflow::shape_inference::ShapeHandle, tensorflow::int64, tensorflow::shape_inference::ShapeHandle*)\u001b[m\u001b[K’, declared with attribute warn_unused_result [\u001b[01;35m\u001b[K-Wunused-result\u001b[m\u001b[K]\n",
            "         c->WithRank(c->input(1), 3, &dims2)\u001b[01;35m\u001b[K;\u001b[m\u001b[K\n",
            "                                            \u001b[01;35m\u001b[K^\u001b[m\u001b[K\n",
            "In file included from \u001b[01m\u001b[K3D-BoNet/tf_ops/../tf_ops/grouping/tf_grouping.cpp:8:0\u001b[m\u001b[K:\n",
            "\u001b[01m\u001b[K/usr/local/lib/python3.6/dist-packages/tensorflow_core/include/tensorflow/core/framework/shape_inference.h:394:10:\u001b[m\u001b[K \u001b[01;36m\u001b[Knote: \u001b[m\u001b[Kdeclared here\n",
            "   Status \u001b[01;36m\u001b[KWithRank\u001b[m\u001b[K(ShapeHandle shape, int64 rank,\n",
            "          \u001b[01;36m\u001b[K^~~~~~~~\u001b[m\u001b[K\n",
            "\u001b[01m\u001b[K3D-BoNet/tf_ops/../tf_ops/grouping/tf_grouping.cpp:\u001b[m\u001b[K In lambda function:\n",
            "\u001b[01m\u001b[K3D-BoNet/tf_ops/../tf_ops/grouping/tf_grouping.cpp:47:44:\u001b[m\u001b[K \u001b[01;35m\u001b[Kwarning: \u001b[m\u001b[Kignoring return value of ‘\u001b[01m\u001b[Ktensorflow::Status tensorflow::shape_inference::InferenceContext::WithRank(tensorflow::shape_inference::ShapeHandle, tensorflow::int64, tensorflow::shape_inference::ShapeHandle*)\u001b[m\u001b[K’, declared with attribute warn_unused_result [\u001b[01;35m\u001b[K-Wunused-result\u001b[m\u001b[K]\n",
            "         c->WithRank(c->input(0), 3, &dims1)\u001b[01;35m\u001b[K;\u001b[m\u001b[K\n",
            "                                            \u001b[01;35m\u001b[K^\u001b[m\u001b[K\n",
            "In file included from \u001b[01m\u001b[K3D-BoNet/tf_ops/../tf_ops/grouping/tf_grouping.cpp:8:0\u001b[m\u001b[K:\n",
            "\u001b[01m\u001b[K/usr/local/lib/python3.6/dist-packages/tensorflow_core/include/tensorflow/core/framework/shape_inference.h:394:10:\u001b[m\u001b[K \u001b[01;36m\u001b[Knote: \u001b[m\u001b[Kdeclared here\n",
            "   Status \u001b[01;36m\u001b[KWithRank\u001b[m\u001b[K(ShapeHandle shape, int64 rank,\n",
            "          \u001b[01;36m\u001b[K^~~~~~~~\u001b[m\u001b[K\n",
            "\u001b[01m\u001b[K3D-BoNet/tf_ops/../tf_ops/grouping/tf_grouping.cpp:49:44:\u001b[m\u001b[K \u001b[01;35m\u001b[Kwarning: \u001b[m\u001b[Kignoring return value of ‘\u001b[01m\u001b[Ktensorflow::Status tensorflow::shape_inference::InferenceContext::WithRank(tensorflow::shape_inference::ShapeHandle, tensorflow::int64, tensorflow::shape_inference::ShapeHandle*)\u001b[m\u001b[K’, declared with attribute warn_unused_result [\u001b[01;35m\u001b[K-Wunused-result\u001b[m\u001b[K]\n",
            "         c->WithRank(c->input(1), 3, &dims2)\u001b[01;35m\u001b[K;\u001b[m\u001b[K\n",
            "                                            \u001b[01;35m\u001b[K^\u001b[m\u001b[K\n",
            "In file included from \u001b[01m\u001b[K3D-BoNet/tf_ops/../tf_ops/grouping/tf_grouping.cpp:8:0\u001b[m\u001b[K:\n",
            "\u001b[01m\u001b[K/usr/local/lib/python3.6/dist-packages/tensorflow_core/include/tensorflow/core/framework/shape_inference.h:394:10:\u001b[m\u001b[K \u001b[01;36m\u001b[Knote: \u001b[m\u001b[Kdeclared here\n",
            "   Status \u001b[01;36m\u001b[KWithRank\u001b[m\u001b[K(ShapeHandle shape, int64 rank,\n",
            "          \u001b[01;36m\u001b[K^~~~~~~~\u001b[m\u001b[K\n",
            "\u001b[01m\u001b[K3D-BoNet/tf_ops/../tf_ops/sampling/tf_sampling.cpp:\u001b[m\u001b[K In lambda function:\n",
            "\u001b[01m\u001b[K3D-BoNet/tf_ops/../tf_ops/sampling/tf_sampling.cpp:20:40:\u001b[m\u001b[K \u001b[01;35m\u001b[Kwarning: \u001b[m\u001b[Kignoring return value of ‘\u001b[01m\u001b[Ktensorflow::Status tensorflow::shape_inference::InferenceContext::WithRank(tensorflow::shape_inference::ShapeHandle, tensorflow::int64, tensorflow::shape_inference::ShapeHandle*)\u001b[m\u001b[K’, declared with attribute warn_unused_result [\u001b[01;35m\u001b[K-Wunused-result\u001b[m\u001b[K]\n",
            "     c->WithRank(c->input(0), 2, &dims1)\u001b[01;35m\u001b[K;\u001b[m\u001b[K\n",
            "                                        \u001b[01;35m\u001b[K^\u001b[m\u001b[K\n",
            "In file included from \u001b[01m\u001b[K3D-BoNet/tf_ops/../tf_ops/sampling/tf_sampling.cpp:8:0\u001b[m\u001b[K:\n",
            "\u001b[01m\u001b[K/usr/local/lib/python3.6/dist-packages/tensorflow_core/include/tensorflow/core/framework/shape_inference.h:394:10:\u001b[m\u001b[K \u001b[01;36m\u001b[Knote: \u001b[m\u001b[Kdeclared here\n",
            "   Status \u001b[01;36m\u001b[KWithRank\u001b[m\u001b[K(ShapeHandle shape, int64 rank,\n",
            "          \u001b[01;36m\u001b[K^~~~~~~~\u001b[m\u001b[K\n",
            "\u001b[01m\u001b[K3D-BoNet/tf_ops/../tf_ops/sampling/tf_sampling.cpp:22:40:\u001b[m\u001b[K \u001b[01;35m\u001b[Kwarning: \u001b[m\u001b[Kignoring return value of ‘\u001b[01m\u001b[Ktensorflow::Status tensorflow::shape_inference::InferenceContext::WithRank(tensorflow::shape_inference::ShapeHandle, tensorflow::int64, tensorflow::shape_inference::ShapeHandle*)\u001b[m\u001b[K’, declared with attribute warn_unused_result [\u001b[01;35m\u001b[K-Wunused-result\u001b[m\u001b[K]\n",
            "     c->WithRank(c->input(1), 2, &dims2)\u001b[01;35m\u001b[K;\u001b[m\u001b[K\n",
            "                                        \u001b[01;35m\u001b[K^\u001b[m\u001b[K\n",
            "In file included from \u001b[01m\u001b[K3D-BoNet/tf_ops/../tf_ops/sampling/tf_sampling.cpp:8:0\u001b[m\u001b[K:\n",
            "\u001b[01m\u001b[K/usr/local/lib/python3.6/dist-packages/tensorflow_core/include/tensorflow/core/framework/shape_inference.h:394:10:\u001b[m\u001b[K \u001b[01;36m\u001b[Knote: \u001b[m\u001b[Kdeclared here\n",
            "   Status \u001b[01;36m\u001b[KWithRank\u001b[m\u001b[K(ShapeHandle shape, int64 rank,\n",
            "          \u001b[01;36m\u001b[K^~~~~~~~\u001b[m\u001b[K\n",
            "\u001b[01m\u001b[K3D-BoNet/tf_ops/../tf_ops/sampling/tf_sampling.cpp:\u001b[m\u001b[K In lambda function:\n",
            "\u001b[01m\u001b[K3D-BoNet/tf_ops/../tf_ops/sampling/tf_sampling.cpp:34:40:\u001b[m\u001b[K \u001b[01;35m\u001b[Kwarning: \u001b[m\u001b[Kignoring return value of ‘\u001b[01m\u001b[Ktensorflow::Status tensorflow::shape_inference::InferenceContext::WithRank(tensorflow::shape_inference::ShapeHandle, tensorflow::int64, tensorflow::shape_inference::ShapeHandle*)\u001b[m\u001b[K’, declared with attribute warn_unused_result [\u001b[01;35m\u001b[K-Wunused-result\u001b[m\u001b[K]\n",
            "     c->WithRank(c->input(0), 3, &dims1)\u001b[01;35m\u001b[K;\u001b[m\u001b[K\n",
            "                                        \u001b[01;35m\u001b[K^\u001b[m\u001b[K\n",
            "In file included from \u001b[01m\u001b[K3D-BoNet/tf_ops/../tf_ops/sampling/tf_sampling.cpp:8:0\u001b[m\u001b[K:\n",
            "\u001b[01m\u001b[K/usr/local/lib/python3.6/dist-packages/tensorflow_core/include/tensorflow/core/framework/shape_inference.h:394:10:\u001b[m\u001b[K \u001b[01;36m\u001b[Knote: \u001b[m\u001b[Kdeclared here\n",
            "   Status \u001b[01;36m\u001b[KWithRank\u001b[m\u001b[K(ShapeHandle shape, int64 rank,\n",
            "          \u001b[01;36m\u001b[K^~~~~~~~\u001b[m\u001b[K\n",
            "\u001b[01m\u001b[K3D-BoNet/tf_ops/../tf_ops/sampling/tf_sampling.cpp:\u001b[m\u001b[K In lambda function:\n",
            "\u001b[01m\u001b[K3D-BoNet/tf_ops/../tf_ops/sampling/tf_sampling.cpp:47:40:\u001b[m\u001b[K \u001b[01;35m\u001b[Kwarning: \u001b[m\u001b[Kignoring return value of ‘\u001b[01m\u001b[Ktensorflow::Status tensorflow::shape_inference::InferenceContext::WithRank(tensorflow::shape_inference::ShapeHandle, tensorflow::int64, tensorflow::shape_inference::ShapeHandle*)\u001b[m\u001b[K’, declared with attribute warn_unused_result [\u001b[01;35m\u001b[K-Wunused-result\u001b[m\u001b[K]\n",
            "     c->WithRank(c->input(0), 3, &dims1)\u001b[01;35m\u001b[K;\u001b[m\u001b[K\n",
            "                                        \u001b[01;35m\u001b[K^\u001b[m\u001b[K\n",
            "In file included from \u001b[01m\u001b[K3D-BoNet/tf_ops/../tf_ops/sampling/tf_sampling.cpp:8:0\u001b[m\u001b[K:\n",
            "\u001b[01m\u001b[K/usr/local/lib/python3.6/dist-packages/tensorflow_core/include/tensorflow/core/framework/shape_inference.h:394:10:\u001b[m\u001b[K \u001b[01;36m\u001b[Knote: \u001b[m\u001b[Kdeclared here\n",
            "   Status \u001b[01;36m\u001b[KWithRank\u001b[m\u001b[K(ShapeHandle shape, int64 rank,\n",
            "          \u001b[01;36m\u001b[K^~~~~~~~\u001b[m\u001b[K\n",
            "\u001b[01m\u001b[K3D-BoNet/tf_ops/../tf_ops/sampling/tf_sampling.cpp:49:40:\u001b[m\u001b[K \u001b[01;35m\u001b[Kwarning: \u001b[m\u001b[Kignoring return value of ‘\u001b[01m\u001b[Ktensorflow::Status tensorflow::shape_inference::InferenceContext::WithRank(tensorflow::shape_inference::ShapeHandle, tensorflow::int64, tensorflow::shape_inference::ShapeHandle*)\u001b[m\u001b[K’, declared with attribute warn_unused_result [\u001b[01;35m\u001b[K-Wunused-result\u001b[m\u001b[K]\n",
            "     c->WithRank(c->input(1), 2, &dims2)\u001b[01;35m\u001b[K;\u001b[m\u001b[K\n",
            "                                        \u001b[01;35m\u001b[K^\u001b[m\u001b[K\n",
            "In file included from \u001b[01m\u001b[K3D-BoNet/tf_ops/../tf_ops/sampling/tf_sampling.cpp:8:0\u001b[m\u001b[K:\n",
            "\u001b[01m\u001b[K/usr/local/lib/python3.6/dist-packages/tensorflow_core/include/tensorflow/core/framework/shape_inference.h:394:10:\u001b[m\u001b[K \u001b[01;36m\u001b[Knote: \u001b[m\u001b[Kdeclared here\n",
            "   Status \u001b[01;36m\u001b[KWithRank\u001b[m\u001b[K(ShapeHandle shape, int64 rank,\n",
            "          \u001b[01;36m\u001b[K^~~~~~~~\u001b[m\u001b[K\n",
            "\u001b[01m\u001b[K3D-BoNet/tf_ops/../tf_ops/interpolation/tf_interpolate.cpp:\u001b[m\u001b[K In lambda function:\n",
            "\u001b[01m\u001b[K3D-BoNet/tf_ops/../tf_ops/interpolation/tf_interpolate.cpp:29:44:\u001b[m\u001b[K \u001b[01;35m\u001b[Kwarning: \u001b[m\u001b[Kignoring return value of ‘\u001b[01m\u001b[Ktensorflow::Status tensorflow::shape_inference::InferenceContext::WithRank(tensorflow::shape_inference::ShapeHandle, tensorflow::int64, tensorflow::shape_inference::ShapeHandle*)\u001b[m\u001b[K’, declared with attribute warn_unused_result [\u001b[01;35m\u001b[K-Wunused-result\u001b[m\u001b[K]\n",
            "         c->WithRank(c->input(0), 3, &dims1)\u001b[01;35m\u001b[K;\u001b[m\u001b[K\n",
            "                                            \u001b[01;35m\u001b[K^\u001b[m\u001b[K\n",
            "In file included from \u001b[01m\u001b[K3D-BoNet/tf_ops/../tf_ops/interpolation/tf_interpolate.cpp:8:0\u001b[m\u001b[K:\n",
            "\u001b[01m\u001b[K/usr/local/lib/python3.6/dist-packages/tensorflow_core/include/tensorflow/core/framework/shape_inference.h:394:10:\u001b[m\u001b[K \u001b[01;36m\u001b[Knote: \u001b[m\u001b[Kdeclared here\n",
            "   Status \u001b[01;36m\u001b[KWithRank\u001b[m\u001b[K(ShapeHandle shape, int64 rank,\n",
            "          \u001b[01;36m\u001b[K^~~~~~~~\u001b[m\u001b[K\n",
            "\u001b[01m\u001b[K3D-BoNet/tf_ops/../tf_ops/interpolation/tf_interpolate.cpp:31:44:\u001b[m\u001b[K \u001b[01;35m\u001b[Kwarning: \u001b[m\u001b[Kignoring return value of ‘\u001b[01m\u001b[Ktensorflow::Status tensorflow::shape_inference::InferenceContext::WithRank(tensorflow::shape_inference::ShapeHandle, tensorflow::int64, tensorflow::shape_inference::ShapeHandle*)\u001b[m\u001b[K’, declared with attribute warn_unused_result [\u001b[01;35m\u001b[K-Wunused-result\u001b[m\u001b[K]\n",
            "         c->WithRank(c->input(1), 3, &dims2)\u001b[01;35m\u001b[K;\u001b[m\u001b[K\n",
            "                                            \u001b[01;35m\u001b[K^\u001b[m\u001b[K\n",
            "In file included from \u001b[01m\u001b[K3D-BoNet/tf_ops/../tf_ops/interpolation/tf_interpolate.cpp:8:0\u001b[m\u001b[K:\n",
            "\u001b[01m\u001b[K/usr/local/lib/python3.6/dist-packages/tensorflow_core/include/tensorflow/core/framework/shape_inference.h:394:10:\u001b[m\u001b[K \u001b[01;36m\u001b[Knote: \u001b[m\u001b[Kdeclared here\n",
            "   Status \u001b[01;36m\u001b[KWithRank\u001b[m\u001b[K(ShapeHandle shape, int64 rank,\n",
            "          \u001b[01;36m\u001b[K^~~~~~~~\u001b[m\u001b[K\n"
          ],
          "name": "stdout"
        }
      ]
    },
    {
      "cell_type": "code",
      "metadata": {
        "id": "9vtqjczBmOxT",
        "colab_type": "code",
        "outputId": "066d576e-c843-42bd-b69d-96f7bb41e546",
        "colab": {
          "base_uri": "https://localhost:8080/",
          "height": 51
        }
      },
      "source": [
        "!ls 3D-BoNet/tf_ops/sampling/"
      ],
      "execution_count": 4,
      "outputs": [
        {
          "output_type": "stream",
          "text": [
            "__init__.py\t\ttf_sampling.cpp   tf_sampling_g.cu.o  tf_sampling_so.so\n",
            "tf_sampling_compile.sh\ttf_sampling_g.cu  tf_sampling.py\n"
          ],
          "name": "stdout"
        }
      ]
    },
    {
      "cell_type": "markdown",
      "metadata": {
        "id": "a_T-EMZAQATo",
        "colab_type": "text"
      },
      "source": [
        "# 3D-BoNet の学習を実行する"
      ]
    },
    {
      "cell_type": "code",
      "metadata": {
        "id": "cqfvoSEhQHMn",
        "colab_type": "code",
        "colab": {}
      },
      "source": [
        "import sys\n",
        "sys.path.append('/content/3D-BoNet/')"
      ],
      "execution_count": 0,
      "outputs": []
    },
    {
      "cell_type": "code",
      "metadata": {
        "id": "_M68A471Rh4i",
        "colab_type": "code",
        "colab": {}
      },
      "source": [
        "import os\n",
        "%tensorflow_version 1.x \n",
        "import tensorflow as tf\n",
        "\n",
        "os.environ[\"CUDA_DEVICE_ORDER\"] = \"PCI_BUS_ID\"\n",
        "os.environ[\"CUDA_VISIBLE_DEVICES\"] = '0'  ## specify the GPU to use\n",
        "\n",
        "from main_3D_BoNet import BoNet\n",
        "from helper_data_s3dis import Data_Configs as Data_Configs"
      ],
      "execution_count": 0,
      "outputs": []
    },
    {
      "cell_type": "code",
      "metadata": {
        "id": "afq-LFlblWDs",
        "colab_type": "code",
        "colab": {}
      },
      "source": [
        "from tensorflow.python.framework import ops\n",
        "ops.reset_default_graph()"
      ],
      "execution_count": 0,
      "outputs": []
    },
    {
      "cell_type": "code",
      "metadata": {
        "id": "yo6wu0NqRtuj",
        "colab_type": "code",
        "outputId": "170ae2a3-f3dc-49ef-c65e-5d5f72fef88d",
        "colab": {
          "base_uri": "https://localhost:8080/",
          "height": 85
        }
      },
      "source": [
        "configs = Data_Configs()\n",
        "net = BoNet(configs = configs)\n",
        "net.creat_folders(name='log', re_train=False)"
      ],
      "execution_count": 8,
      "outputs": [
        {
          "output_type": "stream",
          "text": [
            "re_train: False\n",
            "./log/test_sum/ : deleted and then created!\n",
            "./log/train_sum/ : deleted and then created!\n",
            "./log/train_mod/ : deleted and then created!\n"
          ],
          "name": "stdout"
        }
      ]
    },
    {
      "cell_type": "code",
      "metadata": {
        "id": "XMYinuQobK5G",
        "colab_type": "code",
        "outputId": "979569d6-60cd-4359-f810-43b47d481c38",
        "colab": {
          "base_uri": "https://localhost:8080/",
          "height": 1000
        }
      },
      "source": [
        "net.build_graph() "
      ],
      "execution_count": 9,
      "outputs": [
        {
          "output_type": "stream",
          "text": [
            "WARNING:tensorflow:From /content/3D-BoNet/main_3D_BoNet.py:149: The name tf.placeholder is deprecated. Please use tf.compat.v1.placeholder instead.\n",
            "\n",
            "WARNING:tensorflow:From /content/3D-BoNet/main_3D_BoNet.py:157: The name tf.variable_scope is deprecated. Please use tf.compat.v1.variable_scope instead.\n",
            "\n",
            "/content\n",
            "WARNING:tensorflow:\n",
            "The TensorFlow contrib module will not be included in TensorFlow 2.0.\n",
            "For more information, please see:\n",
            "  * https://github.com/tensorflow/community/blob/master/rfcs/20180907-contrib-sunset.md\n",
            "  * https://github.com/tensorflow/addons\n",
            "  * https://github.com/tensorflow/io (for I/O related ops)\n",
            "If you depend on functionality not listed there, please file an issue.\n",
            "\n",
            "WARNING:tensorflow:From /content/3D-BoNet/helper_net.py:65: The name tf.get_variable is deprecated. Please use tf.compat.v1.get_variable instead.\n",
            "\n",
            "WARNING:tensorflow:From /content/3D-BoNet/helper_net.py:29: The name tf.summary.scalar is deprecated. Please use tf.compat.v1.summary.scalar instead.\n",
            "\n",
            "WARNING:tensorflow:From /content/3D-BoNet/helper_net.py:34: The name tf.summary.histogram is deprecated. Please use tf.compat.v1.summary.histogram instead.\n",
            "\n",
            "WARNING:tensorflow:From /content/3D-BoNet/helper_pointnet2.py:128: calling reduce_max_v1 (from tensorflow.python.ops.math_ops) with keep_dims is deprecated and will be removed in a future version.\n",
            "Instructions for updating:\n",
            "keep_dims is deprecated, use keepdims instead\n",
            "WARNING:tensorflow:From /content/3D-BoNet/helper_pointnet2.py:216: calling reduce_sum_v1 (from tensorflow.python.ops.math_ops) with keep_dims is deprecated and will be removed in a future version.\n",
            "Instructions for updating:\n",
            "keep_dims is deprecated, use keepdims instead\n",
            "WARNING:tensorflow:From /content/3D-BoNet/helper_net.py:75: calling dropout (from tensorflow.python.ops.nn_ops) with keep_prob is deprecated and will be removed in a future version.\n",
            "Instructions for updating:\n",
            "Please use `rate` instead of `keep_prob`. Rate should be set to `rate = 1 - keep_prob`.\n",
            "WARNING:tensorflow:From /content/3D-BoNet/helper_net.py:223: softmax_cross_entropy_with_logits (from tensorflow.python.ops.nn_ops) is deprecated and will be removed in a future version.\n",
            "Instructions for updating:\n",
            "\n",
            "Future major versions of TensorFlow will allow gradients to flow\n",
            "into the labels input on backprop by default.\n",
            "\n",
            "See `tf.nn.softmax_cross_entropy_with_logits_v2`.\n",
            "\n",
            "WARNING:tensorflow:From /content/3D-BoNet/helper_net.py:168: The name tf.log is deprecated. Please use tf.math.log instead.\n",
            "\n",
            "WARNING:tensorflow:From /content/3D-BoNet/helper_net.py:132: py_func (from tensorflow.python.ops.script_ops) is deprecated and will be removed in a future version.\n",
            "Instructions for updating:\n",
            "tf.py_func is deprecated in TF V2. Instead, there are two\n",
            "    options available in V2.\n",
            "    - tf.py_function takes a python function which manipulates tf eager\n",
            "    tensors instead of numpy arrays. It's easy to convert a tf eager tensor to\n",
            "    an ndarray (just call tensor.numpy()) but having access to eager tensors\n",
            "    means `tf.py_function`s can use accelerators such as GPUs as well as\n",
            "    being differentiable using a gradient tape.\n",
            "    - tf.numpy_function maintains the semantics of the deprecated tf.py_func\n",
            "    (it is not differentiable, and manipulates numpy arrays). It drops the\n",
            "    stateful argument making all functions stateful.\n",
            "    \n",
            "WARNING:tensorflow:From /content/3D-BoNet/main_3D_BoNet.py:194: The name tf.trainable_variables is deprecated. Please use tf.compat.v1.trainable_variables instead.\n",
            "\n",
            "WARNING:tensorflow:From /content/3D-BoNet/main_3D_BoNet.py:200: The name tf.train.AdamOptimizer is deprecated. Please use tf.compat.v1.train.AdamOptimizer instead.\n",
            "\n",
            "WARNING:tensorflow:From /usr/local/lib/python3.6/dist-packages/tensorflow_core/python/ops/math_grad.py:1375: where (from tensorflow.python.ops.array_ops) is deprecated and will be removed in a future version.\n",
            "Instructions for updating:\n",
            "Use tf.where in 2.0, which has the same broadcast rule as np.where\n",
            "1811670\n",
            "WARNING:tensorflow:From /content/3D-BoNet/main_3D_BoNet.py:204: The name tf.train.Saver is deprecated. Please use tf.compat.v1.train.Saver instead.\n",
            "\n",
            "WARNING:tensorflow:From /content/3D-BoNet/main_3D_BoNet.py:205: The name tf.ConfigProto is deprecated. Please use tf.compat.v1.ConfigProto instead.\n",
            "\n",
            "WARNING:tensorflow:From /content/3D-BoNet/main_3D_BoNet.py:207: The name tf.Session is deprecated. Please use tf.compat.v1.Session instead.\n",
            "\n",
            "WARNING:tensorflow:From /content/3D-BoNet/main_3D_BoNet.py:208: The name tf.summary.FileWriter is deprecated. Please use tf.compat.v1.summary.FileWriter instead.\n",
            "\n",
            "WARNING:tensorflow:From /content/3D-BoNet/main_3D_BoNet.py:210: The name tf.summary.merge_all is deprecated. Please use tf.compat.v1.summary.merge_all instead.\n",
            "\n",
            "model not found, all weights are initilized\n",
            "WARNING:tensorflow:From /content/3D-BoNet/main_3D_BoNet.py:218: The name tf.global_variables_initializer is deprecated. Please use tf.compat.v1.global_variables_initializer instead.\n",
            "\n"
          ],
          "name": "stdout"
        },
        {
          "output_type": "execute_result",
          "data": {
            "text/plain": [
              "0"
            ]
          },
          "metadata": {
            "tags": []
          },
          "execution_count": 9
        }
      ]
    },
    {
      "cell_type": "code",
      "metadata": {
        "id": "v3Z7Y0FugGr6",
        "colab_type": "code",
        "colab": {
          "base_uri": "https://localhost:8080/",
          "height": 102
        },
        "outputId": "0e0026fa-686e-4ca5-e0dc-5113ed0b1730"
      },
      "source": [
        "# データセットの読み込み\n",
        "from helper_data_s3dis import Data_S3DIS as Data\n",
        "train_areas =['Area_1', 'Area_2'] #,'Area_3', 'Area_4', 'Area_6']\n",
        "test_areas =['Area_5']\n",
        "\n",
        "dataset_path = './s3dis/'\n",
        "data = Data(dataset_path, train_areas, test_areas, train_batch_size=4)"
      ],
      "execution_count": 10,
      "outputs": [
        {
          "output_type": "stream",
          "text": [
            "check area: Area_1\n",
            "check area: Area_2\n",
            "check area: Area_5\n",
            "train files: 8127\n",
            "test files: 6852\n"
          ],
          "name": "stdout"
        }
      ]
    },
    {
      "cell_type": "code",
      "metadata": {
        "id": "Y3zQ_I5Qg5tB",
        "colab_type": "code",
        "colab": {
          "base_uri": "https://localhost:8080/",
          "height": 1000
        },
        "outputId": "c5acec2b-6dd0-4f34-9010-fd051e25e60b"
      },
      "source": [
        "from main_train import train\n",
        "train(net, data)"
      ],
      "execution_count": 11,
      "outputs": [
        {
          "output_type": "stream",
          "text": [
            "train files shuffled!\n",
            "total train batch nums: 2031\n",
            "(4, 4096, 12) (4, 4096, 13) (4, 24, 2, 3) (4, 24, 4096)\n",
            "zep 0 i 0 psemce 2.5658617 bbvert 3.4138076 l2 0.3656833 ce 3.0503147 siou -0.002190285 bbscore 0.6950944 pmask 1.7152442\n",
            "ep 0 i 0 test psem 2.5579371 bbvert 3.241207 l2 0.34290856 ce 2.900593 siou -0.0022948645 bbscore 0.69209695 pmask 1.6728628\n",
            "test pred bborder [[ 4  9 17  1 16 10 12  0  2  3  5  6  7  8 11 13 14 15 18 19 20 21 22 23]\n",
            " [17 16 10  9  0  1  2  3  4  5  6  7  8 11 12 13 14 15 18 19 20 21 22 23]\n",
            " [ 4 19 16 17 22  9  1 10  0  2  3  5  6  7  8 11 12 13 14 15 18 20 21 23]\n",
            " [22  1 17  4  9 12 16 10  0  2  3  5  6  7  8 11 13 14 15 18 19 20 21 23]]\n",
            "ep 0  i 0  model saved!\n",
            "(4, 4096, 12) (4, 4096, 13) (4, 24, 2, 3) (4, 24, 4096)\n",
            "zep 0 i 1 psemce 2.5673084 bbvert 3.6922379 l2 0.36106354 ce 3.335038 siou -0.003863655 bbscore 0.6933017 pmask 1.7879361\n",
            "(4, 4096, 12) (4, 4096, 13) (4, 24, 2, 3) (4, 24, 4096)\n",
            "zep 0 i 2 psemce 2.5630295 bbvert 2.6202395 l2 0.3432897 ce 2.2890925 siou -0.012142614 bbscore 0.68338346 pmask 1.6225066\n",
            "(4, 4096, 12) (4, 4096, 13) (4, 24, 2, 3) (4, 24, 4096)\n",
            "zep 0 i 3 psemce 2.5311918 bbvert 2.8242917 l2 0.3066624 ce 2.530714 siou -0.01308459 bbscore 0.67471665 pmask 1.6535634\n",
            "(4, 4096, 12) (4, 4096, 13) (4, 24, 2, 3) (4, 24, 4096)\n",
            "zep 0 i 4 psemce 2.5214863 bbvert 2.9501925 l2 0.30026335 ce 2.6864355 siou -0.036506347 bbscore 0.6582319 pmask 1.7211332\n",
            "(4, 4096, 12) (4, 4096, 13) (4, 24, 2, 3) (4, 24, 4096)\n",
            "zep 0 i 5 psemce 2.4915512 bbvert 3.017593 l2 0.2698371 ce 2.7946956 siou -0.046939883 bbscore 0.64235014 pmask 1.8712357\n",
            "(4, 4096, 12) (4, 4096, 13) (4, 24, 2, 3) (4, 24, 4096)\n",
            "zep 0 i 6 psemce 2.4716425 bbvert 2.239859 l2 0.2482687 ce 2.0997238 siou -0.108133376 bbscore 0.6225394 pmask 1.8300016\n",
            "(4, 4096, 12) (4, 4096, 13) (4, 24, 2, 3) (4, 24, 4096)\n",
            "zep 0 i 7 psemce 2.443248 bbvert 1.4167936 l2 0.27619383 ce 1.319144 siou -0.17854422 bbscore 0.59048635 pmask 1.6148089\n",
            "(4, 4096, 12) (4, 4096, 13) (4, 24, 2, 3) (4, 24, 4096)\n"
          ],
          "name": "stdout"
        },
        {
          "output_type": "error",
          "ename": "InvalidArgumentError",
          "evalue": "ignored",
          "traceback": [
            "\u001b[0;31m---------------------------------------------------------------------------\u001b[0m",
            "\u001b[0;31mInvalidArgumentError\u001b[0m                      Traceback (most recent call last)",
            "\u001b[0;32m/usr/local/lib/python3.6/dist-packages/tensorflow_core/python/client/session.py\u001b[0m in \u001b[0;36m_do_call\u001b[0;34m(self, fn, *args)\u001b[0m\n\u001b[1;32m   1364\u001b[0m     \u001b[0;32mtry\u001b[0m\u001b[0;34m:\u001b[0m\u001b[0;34m\u001b[0m\u001b[0;34m\u001b[0m\u001b[0m\n\u001b[0;32m-> 1365\u001b[0;31m       \u001b[0;32mreturn\u001b[0m \u001b[0mfn\u001b[0m\u001b[0;34m(\u001b[0m\u001b[0;34m*\u001b[0m\u001b[0margs\u001b[0m\u001b[0;34m)\u001b[0m\u001b[0;34m\u001b[0m\u001b[0;34m\u001b[0m\u001b[0m\n\u001b[0m\u001b[1;32m   1366\u001b[0m     \u001b[0;32mexcept\u001b[0m \u001b[0merrors\u001b[0m\u001b[0;34m.\u001b[0m\u001b[0mOpError\u001b[0m \u001b[0;32mas\u001b[0m \u001b[0me\u001b[0m\u001b[0;34m:\u001b[0m\u001b[0;34m\u001b[0m\u001b[0;34m\u001b[0m\u001b[0m\n",
            "\u001b[0;32m/usr/local/lib/python3.6/dist-packages/tensorflow_core/python/client/session.py\u001b[0m in \u001b[0;36m_run_fn\u001b[0;34m(feed_dict, fetch_list, target_list, options, run_metadata)\u001b[0m\n\u001b[1;32m   1349\u001b[0m       return self._call_tf_sessionrun(options, feed_dict, fetch_list,\n\u001b[0;32m-> 1350\u001b[0;31m                                       target_list, run_metadata)\n\u001b[0m\u001b[1;32m   1351\u001b[0m \u001b[0;34m\u001b[0m\u001b[0m\n",
            "\u001b[0;32m/usr/local/lib/python3.6/dist-packages/tensorflow_core/python/client/session.py\u001b[0m in \u001b[0;36m_call_tf_sessionrun\u001b[0;34m(self, options, feed_dict, fetch_list, target_list, run_metadata)\u001b[0m\n\u001b[1;32m   1442\u001b[0m                                             \u001b[0mfetch_list\u001b[0m\u001b[0;34m,\u001b[0m \u001b[0mtarget_list\u001b[0m\u001b[0;34m,\u001b[0m\u001b[0;34m\u001b[0m\u001b[0;34m\u001b[0m\u001b[0m\n\u001b[0;32m-> 1443\u001b[0;31m                                             run_metadata)\n\u001b[0m\u001b[1;32m   1444\u001b[0m \u001b[0;34m\u001b[0m\u001b[0m\n",
            "\u001b[0;31mInvalidArgumentError\u001b[0m: 2 root error(s) found.\n  (0) Invalid argument: ValueError: matrix contains invalid numeric entries\nTraceback (most recent call last):\n\n  File \"/usr/local/lib/python3.6/dist-packages/tensorflow_core/python/ops/script_ops.py\", line 235, in __call__\n    ret = func(*args)\n\n  File \"/content/3D-BoNet/helper_net.py\", line 119, in assign_mappings_valid_only\n    row_ind, col_ind = linear_sum_assignment(valid_cost)\n\n  File \"/usr/local/lib/python3.6/dist-packages/scipy/optimize/_lsap.py\", line 93, in linear_sum_assignment\n    raise ValueError(\"matrix contains invalid numeric entries\")\n\nValueError: matrix contains invalid numeric entries\n\n\n\t [[{{node bbox/PyFunc}}]]\n\t [[gradients/backbone/fa_layer4/ThreeInterpolate_grad/ThreeInterpolateGrad/_389]]\n  (1) Invalid argument: ValueError: matrix contains invalid numeric entries\nTraceback (most recent call last):\n\n  File \"/usr/local/lib/python3.6/dist-packages/tensorflow_core/python/ops/script_ops.py\", line 235, in __call__\n    ret = func(*args)\n\n  File \"/content/3D-BoNet/helper_net.py\", line 119, in assign_mappings_valid_only\n    row_ind, col_ind = linear_sum_assignment(valid_cost)\n\n  File \"/usr/local/lib/python3.6/dist-packages/scipy/optimize/_lsap.py\", line 93, in linear_sum_assignment\n    raise ValueError(\"matrix contains invalid numeric entries\")\n\nValueError: matrix contains invalid numeric entries\n\n\n\t [[{{node bbox/PyFunc}}]]\n0 successful operations.\n0 derived errors ignored.",
            "\nDuring handling of the above exception, another exception occurred:\n",
            "\u001b[0;31mInvalidArgumentError\u001b[0m                      Traceback (most recent call last)",
            "\u001b[0;32m<ipython-input-11-611edb3a3b4e>\u001b[0m in \u001b[0;36m<module>\u001b[0;34m()\u001b[0m\n\u001b[1;32m      1\u001b[0m \u001b[0;32mfrom\u001b[0m \u001b[0mmain_train\u001b[0m \u001b[0;32mimport\u001b[0m \u001b[0mtrain\u001b[0m\u001b[0;34m\u001b[0m\u001b[0;34m\u001b[0m\u001b[0m\n\u001b[0;32m----> 2\u001b[0;31m \u001b[0mtrain\u001b[0m\u001b[0;34m(\u001b[0m\u001b[0mnet\u001b[0m\u001b[0;34m,\u001b[0m \u001b[0mdata\u001b[0m\u001b[0;34m)\u001b[0m\u001b[0;34m\u001b[0m\u001b[0;34m\u001b[0m\u001b[0m\n\u001b[0m",
            "\u001b[0;32m/content/3D-BoNet/main_train.py\u001b[0m in \u001b[0;36mtrain\u001b[0;34m(net, data)\u001b[0m\n\u001b[1;32m     15\u001b[0m \t\t\t_, ls_psemce, ls_bbvert_all, ls_bbvert_l2, ls_bbvert_ce, ls_bbvert_iou, ls_bbscore, ls_pmask = net.sess.run([\n\u001b[1;32m     16\u001b[0m \t\t\tnet.optim, net.psemce_loss, net.bbvert_loss, net.bbvert_loss_l2, net.bbvert_loss_ce, net.bbvert_loss_iou,net.bbscore_loss, net.pmask_loss],\n\u001b[0;32m---> 17\u001b[0;31m \t\t\tfeed_dict={net.X_pc:bat_pc[:, :, 0:9], net.Y_bbvert:bat_bbvert, net.Y_pmask:bat_pmask, net.Y_psem:bat_psem_onehot, net.lr:l_rate, net.is_train:True})\n\u001b[0m\u001b[1;32m     18\u001b[0m \u001b[0;34m\u001b[0m\u001b[0m\n\u001b[1;32m     19\u001b[0m                         \u001b[0;32mif\u001b[0m \u001b[0mi\u001b[0m\u001b[0;34m%\u001b[0m\u001b[0;36m200\u001b[0m\u001b[0;34m==\u001b[0m\u001b[0;36m0\u001b[0m\u001b[0;34m:\u001b[0m\u001b[0;34m\u001b[0m\u001b[0;34m\u001b[0m\u001b[0m\n",
            "\u001b[0;32m/usr/local/lib/python3.6/dist-packages/tensorflow_core/python/client/session.py\u001b[0m in \u001b[0;36mrun\u001b[0;34m(self, fetches, feed_dict, options, run_metadata)\u001b[0m\n\u001b[1;32m    954\u001b[0m     \u001b[0;32mtry\u001b[0m\u001b[0;34m:\u001b[0m\u001b[0;34m\u001b[0m\u001b[0;34m\u001b[0m\u001b[0m\n\u001b[1;32m    955\u001b[0m       result = self._run(None, fetches, feed_dict, options_ptr,\n\u001b[0;32m--> 956\u001b[0;31m                          run_metadata_ptr)\n\u001b[0m\u001b[1;32m    957\u001b[0m       \u001b[0;32mif\u001b[0m \u001b[0mrun_metadata\u001b[0m\u001b[0;34m:\u001b[0m\u001b[0;34m\u001b[0m\u001b[0;34m\u001b[0m\u001b[0m\n\u001b[1;32m    958\u001b[0m         \u001b[0mproto_data\u001b[0m \u001b[0;34m=\u001b[0m \u001b[0mtf_session\u001b[0m\u001b[0;34m.\u001b[0m\u001b[0mTF_GetBuffer\u001b[0m\u001b[0;34m(\u001b[0m\u001b[0mrun_metadata_ptr\u001b[0m\u001b[0;34m)\u001b[0m\u001b[0;34m\u001b[0m\u001b[0;34m\u001b[0m\u001b[0m\n",
            "\u001b[0;32m/usr/local/lib/python3.6/dist-packages/tensorflow_core/python/client/session.py\u001b[0m in \u001b[0;36m_run\u001b[0;34m(self, handle, fetches, feed_dict, options, run_metadata)\u001b[0m\n\u001b[1;32m   1178\u001b[0m     \u001b[0;32mif\u001b[0m \u001b[0mfinal_fetches\u001b[0m \u001b[0;32mor\u001b[0m \u001b[0mfinal_targets\u001b[0m \u001b[0;32mor\u001b[0m \u001b[0;34m(\u001b[0m\u001b[0mhandle\u001b[0m \u001b[0;32mand\u001b[0m \u001b[0mfeed_dict_tensor\u001b[0m\u001b[0;34m)\u001b[0m\u001b[0;34m:\u001b[0m\u001b[0;34m\u001b[0m\u001b[0;34m\u001b[0m\u001b[0m\n\u001b[1;32m   1179\u001b[0m       results = self._do_run(handle, final_targets, final_fetches,\n\u001b[0;32m-> 1180\u001b[0;31m                              feed_dict_tensor, options, run_metadata)\n\u001b[0m\u001b[1;32m   1181\u001b[0m     \u001b[0;32melse\u001b[0m\u001b[0;34m:\u001b[0m\u001b[0;34m\u001b[0m\u001b[0;34m\u001b[0m\u001b[0m\n\u001b[1;32m   1182\u001b[0m       \u001b[0mresults\u001b[0m \u001b[0;34m=\u001b[0m \u001b[0;34m[\u001b[0m\u001b[0;34m]\u001b[0m\u001b[0;34m\u001b[0m\u001b[0;34m\u001b[0m\u001b[0m\n",
            "\u001b[0;32m/usr/local/lib/python3.6/dist-packages/tensorflow_core/python/client/session.py\u001b[0m in \u001b[0;36m_do_run\u001b[0;34m(self, handle, target_list, fetch_list, feed_dict, options, run_metadata)\u001b[0m\n\u001b[1;32m   1357\u001b[0m     \u001b[0;32mif\u001b[0m \u001b[0mhandle\u001b[0m \u001b[0;32mis\u001b[0m \u001b[0;32mNone\u001b[0m\u001b[0;34m:\u001b[0m\u001b[0;34m\u001b[0m\u001b[0;34m\u001b[0m\u001b[0m\n\u001b[1;32m   1358\u001b[0m       return self._do_call(_run_fn, feeds, fetches, targets, options,\n\u001b[0;32m-> 1359\u001b[0;31m                            run_metadata)\n\u001b[0m\u001b[1;32m   1360\u001b[0m     \u001b[0;32melse\u001b[0m\u001b[0;34m:\u001b[0m\u001b[0;34m\u001b[0m\u001b[0;34m\u001b[0m\u001b[0m\n\u001b[1;32m   1361\u001b[0m       \u001b[0;32mreturn\u001b[0m \u001b[0mself\u001b[0m\u001b[0;34m.\u001b[0m\u001b[0m_do_call\u001b[0m\u001b[0;34m(\u001b[0m\u001b[0m_prun_fn\u001b[0m\u001b[0;34m,\u001b[0m \u001b[0mhandle\u001b[0m\u001b[0;34m,\u001b[0m \u001b[0mfeeds\u001b[0m\u001b[0;34m,\u001b[0m \u001b[0mfetches\u001b[0m\u001b[0;34m)\u001b[0m\u001b[0;34m\u001b[0m\u001b[0;34m\u001b[0m\u001b[0m\n",
            "\u001b[0;32m/usr/local/lib/python3.6/dist-packages/tensorflow_core/python/client/session.py\u001b[0m in \u001b[0;36m_do_call\u001b[0;34m(self, fn, *args)\u001b[0m\n\u001b[1;32m   1382\u001b[0m                     \u001b[0;34m'\\nsession_config.graph_options.rewrite_options.'\u001b[0m\u001b[0;34m\u001b[0m\u001b[0;34m\u001b[0m\u001b[0m\n\u001b[1;32m   1383\u001b[0m                     'disable_meta_optimizer = True')\n\u001b[0;32m-> 1384\u001b[0;31m       \u001b[0;32mraise\u001b[0m \u001b[0mtype\u001b[0m\u001b[0;34m(\u001b[0m\u001b[0me\u001b[0m\u001b[0;34m)\u001b[0m\u001b[0;34m(\u001b[0m\u001b[0mnode_def\u001b[0m\u001b[0;34m,\u001b[0m \u001b[0mop\u001b[0m\u001b[0;34m,\u001b[0m \u001b[0mmessage\u001b[0m\u001b[0;34m)\u001b[0m\u001b[0;34m\u001b[0m\u001b[0;34m\u001b[0m\u001b[0m\n\u001b[0m\u001b[1;32m   1385\u001b[0m \u001b[0;34m\u001b[0m\u001b[0m\n\u001b[1;32m   1386\u001b[0m   \u001b[0;32mdef\u001b[0m \u001b[0m_extend_graph\u001b[0m\u001b[0;34m(\u001b[0m\u001b[0mself\u001b[0m\u001b[0;34m)\u001b[0m\u001b[0;34m:\u001b[0m\u001b[0;34m\u001b[0m\u001b[0;34m\u001b[0m\u001b[0m\n",
            "\u001b[0;31mInvalidArgumentError\u001b[0m: 2 root error(s) found.\n  (0) Invalid argument: ValueError: matrix contains invalid numeric entries\nTraceback (most recent call last):\n\n  File \"/usr/local/lib/python3.6/dist-packages/tensorflow_core/python/ops/script_ops.py\", line 235, in __call__\n    ret = func(*args)\n\n  File \"/content/3D-BoNet/helper_net.py\", line 119, in assign_mappings_valid_only\n    row_ind, col_ind = linear_sum_assignment(valid_cost)\n\n  File \"/usr/local/lib/python3.6/dist-packages/scipy/optimize/_lsap.py\", line 93, in linear_sum_assignment\n    raise ValueError(\"matrix contains invalid numeric entries\")\n\nValueError: matrix contains invalid numeric entries\n\n\n\t [[node bbox/PyFunc (defined at /usr/local/lib/python3.6/dist-packages/tensorflow_core/python/framework/ops.py:1748) ]]\n\t [[gradients/backbone/fa_layer4/ThreeInterpolate_grad/ThreeInterpolateGrad/_389]]\n  (1) Invalid argument: ValueError: matrix contains invalid numeric entries\nTraceback (most recent call last):\n\n  File \"/usr/local/lib/python3.6/dist-packages/tensorflow_core/python/ops/script_ops.py\", line 235, in __call__\n    ret = func(*args)\n\n  File \"/content/3D-BoNet/helper_net.py\", line 119, in assign_mappings_valid_only\n    row_ind, col_ind = linear_sum_assignment(valid_cost)\n\n  File \"/usr/local/lib/python3.6/dist-packages/scipy/optimize/_lsap.py\", line 93, in linear_sum_assignment\n    raise ValueError(\"matrix contains invalid numeric entries\")\n\nValueError: matrix contains invalid numeric entries\n\n\n\t [[node bbox/PyFunc (defined at /usr/local/lib/python3.6/dist-packages/tensorflow_core/python/framework/ops.py:1748) ]]\n0 successful operations.\n0 derived errors ignored.\n\nOriginal stack trace for 'bbox/PyFunc':\n  File \"/usr/lib/python3.6/runpy.py\", line 193, in _run_module_as_main\n    \"__main__\", mod_spec)\n  File \"/usr/lib/python3.6/runpy.py\", line 85, in _run_code\n    exec(code, run_globals)\n  File \"/usr/local/lib/python3.6/dist-packages/ipykernel_launcher.py\", line 16, in <module>\n    app.launch_new_instance()\n  File \"/usr/local/lib/python3.6/dist-packages/traitlets/config/application.py\", line 664, in launch_instance\n    app.start()\n  File \"/usr/local/lib/python3.6/dist-packages/ipykernel/kernelapp.py\", line 477, in start\n    ioloop.IOLoop.instance().start()\n  File \"/usr/local/lib/python3.6/dist-packages/tornado/ioloop.py\", line 888, in start\n    handler_func(fd_obj, events)\n  File \"/usr/local/lib/python3.6/dist-packages/tornado/stack_context.py\", line 277, in null_wrapper\n    return fn(*args, **kwargs)\n  File \"/usr/local/lib/python3.6/dist-packages/zmq/eventloop/zmqstream.py\", line 450, in _handle_events\n    self._handle_recv()\n  File \"/usr/local/lib/python3.6/dist-packages/zmq/eventloop/zmqstream.py\", line 480, in _handle_recv\n    self._run_callback(callback, msg)\n  File \"/usr/local/lib/python3.6/dist-packages/zmq/eventloop/zmqstream.py\", line 432, in _run_callback\n    callback(*args, **kwargs)\n  File \"/usr/local/lib/python3.6/dist-packages/tornado/stack_context.py\", line 277, in null_wrapper\n    return fn(*args, **kwargs)\n  File \"/usr/local/lib/python3.6/dist-packages/ipykernel/kernelbase.py\", line 283, in dispatcher\n    return self.dispatch_shell(stream, msg)\n  File \"/usr/local/lib/python3.6/dist-packages/ipykernel/kernelbase.py\", line 235, in dispatch_shell\n    handler(stream, idents, msg)\n  File \"/usr/local/lib/python3.6/dist-packages/ipykernel/kernelbase.py\", line 399, in execute_request\n    user_expressions, allow_stdin)\n  File \"/usr/local/lib/python3.6/dist-packages/ipykernel/ipkernel.py\", line 196, in do_execute\n    res = shell.run_cell(code, store_history=store_history, silent=silent)\n  File \"/usr/local/lib/python3.6/dist-packages/ipykernel/zmqshell.py\", line 533, in run_cell\n    return super(ZMQInteractiveShell, self).run_cell(*args, **kwargs)\n  File \"/usr/local/lib/python3.6/dist-packages/IPython/core/interactiveshell.py\", line 2718, in run_cell\n    interactivity=interactivity, compiler=compiler, result=result)\n  File \"/usr/local/lib/python3.6/dist-packages/IPython/core/interactiveshell.py\", line 2828, in run_ast_nodes\n    if self.run_code(code, result):\n  File \"/usr/local/lib/python3.6/dist-packages/IPython/core/interactiveshell.py\", line 2882, in run_code\n    exec(code_obj, self.user_global_ns, self.user_ns)\n  File \"<ipython-input-9-6be8d87c9db1>\", line 1, in <module>\n    net.build_graph()\n  File \"/content/3D-BoNet/main_3D_BoNet.py\", line 169, in build_graph\n    self.y_bbvert_pred, self.pred_bborder = Ops.bbvert_association(self.X_pc,  self.y_bbvert_pred_raw, self.Y_bbvert, label=bbox_criteria)\n  File \"/content/3D-BoNet/helper_net.py\", line 206, in bbvert_association\n    pred_bborder, association_score_min = Ops.hungarian(associate_maxtrix, bb_gt=Y_bbvert)\n  File \"/content/3D-BoNet/helper_net.py\", line 132, in hungarian\n    ordering, loss_total = tf.py_func(assign_mappings_valid_only, [loss_matrix, bb_gt], [tf.int32, tf.float32])\n  File \"/usr/local/lib/python3.6/dist-packages/tensorflow_core/python/util/deprecation.py\", line 324, in new_func\n    return func(*args, **kwargs)\n  File \"/usr/local/lib/python3.6/dist-packages/tensorflow_core/python/ops/script_ops.py\", line 513, in py_func\n    return py_func_common(func, inp, Tout, stateful, name=name)\n  File \"/usr/local/lib/python3.6/dist-packages/tensorflow_core/python/ops/script_ops.py\", line 495, in py_func_common\n    func=func, inp=inp, Tout=Tout, stateful=stateful, eager=False, name=name)\n  File \"/usr/local/lib/python3.6/dist-packages/tensorflow_core/python/ops/script_ops.py\", line 318, in _internal_py_func\n    input=inp, token=token, Tout=Tout, name=name)\n  File \"/usr/local/lib/python3.6/dist-packages/tensorflow_core/python/ops/gen_script_ops.py\", line 170, in py_func\n    \"PyFunc\", input=input, token=token, Tout=Tout, name=name)\n  File \"/usr/local/lib/python3.6/dist-packages/tensorflow_core/python/framework/op_def_library.py\", line 794, in _apply_op_helper\n    op_def=op_def)\n  File \"/usr/local/lib/python3.6/dist-packages/tensorflow_core/python/util/deprecation.py\", line 507, in new_func\n    return func(*args, **kwargs)\n  File \"/usr/local/lib/python3.6/dist-packages/tensorflow_core/python/framework/ops.py\", line 3357, in create_op\n    attrs, op_def, compute_device)\n  File \"/usr/local/lib/python3.6/dist-packages/tensorflow_core/python/framework/ops.py\", line 3426, in _create_op_internal\n    op_def=op_def)\n  File \"/usr/local/lib/python3.6/dist-packages/tensorflow_core/python/framework/ops.py\", line 1748, in __init__\n    self._traceback = tf_stack.extract_stack()\n"
          ]
        }
      ]
    }
  ]
}