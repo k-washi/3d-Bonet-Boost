{
  "nbformat": 4,
  "nbformat_minor": 0,
  "metadata": {
    "colab": {
      "name": "make_pickle.ipynb",
      "provenance": []
    },
    "kernelspec": {
      "name": "python3",
      "display_name": "Python 3"
    }
  },
  "cells": [
    {
      "cell_type": "code",
      "metadata": {
        "id": "Lk-8cfCEQs26",
        "colab_type": "code",
        "colab": {}
      },
      "source": [
        "import pandas as pd"
      ],
      "execution_count": 0,
      "outputs": []
    },
    {
      "cell_type": "code",
      "metadata": {
        "id": "wqCafMU3IAem",
        "colab_type": "code",
        "colab": {}
      },
      "source": [
        "#読み込み、前半の文字削除\n",
        "data = pd.read_table('%2Fxmin_-392_ymin_137_delta_50.pcd', header=None)\n",
        "head = data[:10]\n",
        "data = data[10:].reset_index(drop=True)"
      ],
      "execution_count": 0,
      "outputs": []
    },
    {
      "cell_type": "code",
      "metadata": {
        "id": "d_r9ICd8JtVI",
        "colab_type": "code",
        "outputId": "2a8e56e4-ed0e-4d4b-9de5-2a92f25ddc89",
        "colab": {
          "base_uri": "https://localhost:8080/",
          "height": 51
        }
      },
      "source": [
        "%%time\n",
        "data = data.iloc[:,0].apply(lambda x: pd.Series(x.split()))"
      ],
      "execution_count": 48,
      "outputs": [
        {
          "output_type": "stream",
          "text": [
            "CPU times: user 1min 11s, sys: 692 ms, total: 1min 12s\n",
            "Wall time: 1min 11s\n"
          ],
          "name": "stdout"
        }
      ]
    },
    {
      "cell_type": "code",
      "metadata": {
        "id": "Yvd1Zw-vVFvj",
        "colab_type": "code",
        "colab": {
          "base_uri": "https://localhost:8080/",
          "height": 669
        },
        "outputId": "f215892e-3ca2-4f6c-9ba4-fa652759ac98"
      },
      "source": [
        "data2 = data.copy()\n",
        "data2[3] = ((data[3].astype(int)<7) & (data[3] != '0')) * 1\n",
        "data2.head(20)"
      ],
      "execution_count": 49,
      "outputs": [
        {
          "output_type": "execute_result",
          "data": {
            "text/html": [
              "<div>\n",
              "<style scoped>\n",
              "    .dataframe tbody tr th:only-of-type {\n",
              "        vertical-align: middle;\n",
              "    }\n",
              "\n",
              "    .dataframe tbody tr th {\n",
              "        vertical-align: top;\n",
              "    }\n",
              "\n",
              "    .dataframe thead th {\n",
              "        text-align: right;\n",
              "    }\n",
              "</style>\n",
              "<table border=\"1\" class=\"dataframe\">\n",
              "  <thead>\n",
              "    <tr style=\"text-align: right;\">\n",
              "      <th></th>\n",
              "      <th>0</th>\n",
              "      <th>1</th>\n",
              "      <th>2</th>\n",
              "      <th>3</th>\n",
              "      <th>4</th>\n",
              "    </tr>\n",
              "  </thead>\n",
              "  <tbody>\n",
              "    <tr>\n",
              "      <th>0</th>\n",
              "      <td>-342.8129396103613</td>\n",
              "      <td>139.81152033824145</td>\n",
              "      <td>37.052573111060354</td>\n",
              "      <td>1</td>\n",
              "      <td>183</td>\n",
              "    </tr>\n",
              "    <tr>\n",
              "      <th>1</th>\n",
              "      <td>-343.7112396103613</td>\n",
              "      <td>153.07972033824146</td>\n",
              "      <td>40.13527311106036</td>\n",
              "      <td>1</td>\n",
              "      <td>143</td>\n",
              "    </tr>\n",
              "    <tr>\n",
              "      <th>2</th>\n",
              "      <td>-343.5033396103613</td>\n",
              "      <td>186.59242033824148</td>\n",
              "      <td>44.72717311106035</td>\n",
              "      <td>1</td>\n",
              "      <td>9</td>\n",
              "    </tr>\n",
              "    <tr>\n",
              "      <th>3</th>\n",
              "      <td>-343.6364396103613</td>\n",
              "      <td>182.93202033824147</td>\n",
              "      <td>43.008473111060354</td>\n",
              "      <td>0</td>\n",
              "      <td>-1</td>\n",
              "    </tr>\n",
              "    <tr>\n",
              "      <th>4</th>\n",
              "      <td>-347.29063961036127</td>\n",
              "      <td>184.60432033824148</td>\n",
              "      <td>42.76967311106036</td>\n",
              "      <td>1</td>\n",
              "      <td>34</td>\n",
              "    </tr>\n",
              "    <tr>\n",
              "      <th>5</th>\n",
              "      <td>-346.65993961036133</td>\n",
              "      <td>173.92612033824147</td>\n",
              "      <td>42.25437311106036</td>\n",
              "      <td>1</td>\n",
              "      <td>4</td>\n",
              "    </tr>\n",
              "    <tr>\n",
              "      <th>6</th>\n",
              "      <td>-347.1314396103613</td>\n",
              "      <td>184.76672033824147</td>\n",
              "      <td>43.76137311106036</td>\n",
              "      <td>1</td>\n",
              "      <td>34</td>\n",
              "    </tr>\n",
              "    <tr>\n",
              "      <th>7</th>\n",
              "      <td>-343.8420396103613</td>\n",
              "      <td>172.03752033824148</td>\n",
              "      <td>42.46837311106036</td>\n",
              "      <td>1</td>\n",
              "      <td>-1</td>\n",
              "    </tr>\n",
              "    <tr>\n",
              "      <th>8</th>\n",
              "      <td>-343.80473961036125</td>\n",
              "      <td>171.98262033824147</td>\n",
              "      <td>41.728573111060356</td>\n",
              "      <td>1</td>\n",
              "      <td>-1</td>\n",
              "    </tr>\n",
              "    <tr>\n",
              "      <th>9</th>\n",
              "      <td>-342.3191396103613</td>\n",
              "      <td>185.76652033824146</td>\n",
              "      <td>43.25747311106036</td>\n",
              "      <td>1</td>\n",
              "      <td>-1</td>\n",
              "    </tr>\n",
              "    <tr>\n",
              "      <th>10</th>\n",
              "      <td>-343.60333961036133</td>\n",
              "      <td>171.89222033824146</td>\n",
              "      <td>41.84847311106036</td>\n",
              "      <td>1</td>\n",
              "      <td>-1</td>\n",
              "    </tr>\n",
              "    <tr>\n",
              "      <th>11</th>\n",
              "      <td>-344.3440396103613</td>\n",
              "      <td>183.22862033824146</td>\n",
              "      <td>45.41957311106036</td>\n",
              "      <td>0</td>\n",
              "      <td>-1</td>\n",
              "    </tr>\n",
              "    <tr>\n",
              "      <th>12</th>\n",
              "      <td>-352.0902396103613</td>\n",
              "      <td>180.30162033824146</td>\n",
              "      <td>41.96877311106036</td>\n",
              "      <td>1</td>\n",
              "      <td>12</td>\n",
              "    </tr>\n",
              "    <tr>\n",
              "      <th>13</th>\n",
              "      <td>-352.0457396103613</td>\n",
              "      <td>179.95042033824146</td>\n",
              "      <td>43.36097311106036</td>\n",
              "      <td>1</td>\n",
              "      <td>12</td>\n",
              "    </tr>\n",
              "    <tr>\n",
              "      <th>14</th>\n",
              "      <td>-347.7654396103613</td>\n",
              "      <td>165.90042033824147</td>\n",
              "      <td>43.269173111060354</td>\n",
              "      <td>1</td>\n",
              "      <td>106</td>\n",
              "    </tr>\n",
              "    <tr>\n",
              "      <th>15</th>\n",
              "      <td>-344.3324396103613</td>\n",
              "      <td>183.59502033824145</td>\n",
              "      <td>43.78427311106036</td>\n",
              "      <td>1</td>\n",
              "      <td>17</td>\n",
              "    </tr>\n",
              "    <tr>\n",
              "      <th>16</th>\n",
              "      <td>-343.14863961036133</td>\n",
              "      <td>185.83042033824148</td>\n",
              "      <td>43.325673111060354</td>\n",
              "      <td>1</td>\n",
              "      <td>9</td>\n",
              "    </tr>\n",
              "    <tr>\n",
              "      <th>17</th>\n",
              "      <td>-350.5187396103613</td>\n",
              "      <td>186.62682033824146</td>\n",
              "      <td>42.48527311106036</td>\n",
              "      <td>1</td>\n",
              "      <td>-1</td>\n",
              "    </tr>\n",
              "    <tr>\n",
              "      <th>18</th>\n",
              "      <td>-344.1159396103613</td>\n",
              "      <td>182.91492033824147</td>\n",
              "      <td>43.59517311106036</td>\n",
              "      <td>1</td>\n",
              "      <td>17</td>\n",
              "    </tr>\n",
              "    <tr>\n",
              "      <th>19</th>\n",
              "      <td>-351.33823961036126</td>\n",
              "      <td>176.36182033824147</td>\n",
              "      <td>42.18327311106036</td>\n",
              "      <td>1</td>\n",
              "      <td>120</td>\n",
              "    </tr>\n",
              "  </tbody>\n",
              "</table>\n",
              "</div>"
            ],
            "text/plain": [
              "                      0                   1                   2  3    4\n",
              "0    -342.8129396103613  139.81152033824145  37.052573111060354  1  183\n",
              "1    -343.7112396103613  153.07972033824146   40.13527311106036  1  143\n",
              "2    -343.5033396103613  186.59242033824148   44.72717311106035  1    9\n",
              "3    -343.6364396103613  182.93202033824147  43.008473111060354  0   -1\n",
              "4   -347.29063961036127  184.60432033824148   42.76967311106036  1   34\n",
              "5   -346.65993961036133  173.92612033824147   42.25437311106036  1    4\n",
              "6    -347.1314396103613  184.76672033824147   43.76137311106036  1   34\n",
              "7    -343.8420396103613  172.03752033824148   42.46837311106036  1   -1\n",
              "8   -343.80473961036125  171.98262033824147  41.728573111060356  1   -1\n",
              "9    -342.3191396103613  185.76652033824146   43.25747311106036  1   -1\n",
              "10  -343.60333961036133  171.89222033824146   41.84847311106036  1   -1\n",
              "11   -344.3440396103613  183.22862033824146   45.41957311106036  0   -1\n",
              "12   -352.0902396103613  180.30162033824146   41.96877311106036  1   12\n",
              "13   -352.0457396103613  179.95042033824146   43.36097311106036  1   12\n",
              "14   -347.7654396103613  165.90042033824147  43.269173111060354  1  106\n",
              "15   -344.3324396103613  183.59502033824145   43.78427311106036  1   17\n",
              "16  -343.14863961036133  185.83042033824148  43.325673111060354  1    9\n",
              "17   -350.5187396103613  186.62682033824146   42.48527311106036  1   -1\n",
              "18   -344.1159396103613  182.91492033824147   43.59517311106036  1   17\n",
              "19  -351.33823961036126  176.36182033824147   42.18327311106036  1  120"
            ]
          },
          "metadata": {
            "tags": []
          },
          "execution_count": 49
        }
      ]
    },
    {
      "cell_type": "code",
      "metadata": {
        "id": "GL0RmsGWOxWN",
        "colab_type": "code",
        "colab": {}
      },
      "source": [
        "points,ids = [],[]\n",
        "for i in range(len(data2)):\n",
        "  x,y,z,label,obj = data2.iloc[i]\n",
        "  points.append((x,y,z))\n",
        "  ids.append((label,obj))"
      ],
      "execution_count": 0,
      "outputs": []
    },
    {
      "cell_type": "code",
      "metadata": {
        "id": "e7f-oVqiSF_5",
        "colab_type": "code",
        "colab": {}
      },
      "source": [
        "pcd_dict = {'point':points,'id':ids}"
      ],
      "execution_count": 0,
      "outputs": []
    },
    {
      "cell_type": "code",
      "metadata": {
        "id": "RUcroHvuRzAX",
        "colab_type": "code",
        "colab": {}
      },
      "source": [
        "import pickle\n",
        "with open('xmin_-392_ymin_137_delta_50.pkl', 'wb') as f:\n",
        "  pickle.dump(pcd_dict, f)"
      ],
      "execution_count": 0,
      "outputs": []
    }
  ]
}