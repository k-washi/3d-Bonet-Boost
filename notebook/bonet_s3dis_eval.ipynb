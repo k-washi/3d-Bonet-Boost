{
  "nbformat": 4,
  "nbformat_minor": 0,
  "metadata": {
    "colab": {
      "name": "bonet-s3dis-eval",
      "provenance": [],
      "collapsed_sections": [],
      "mount_file_id": "1m0cyB0_JpfLUr4955llrboSNWaCyouGX",
      "authorship_tag": "ABX9TyPgtWkciyg7YALIPbZ6+nMZ",
      "include_colab_link": true
    },
    "kernelspec": {
      "name": "python3",
      "display_name": "Python 3"
    },
    "accelerator": "GPU"
  },
  "cells": [
    {
      "cell_type": "markdown",
      "metadata": {
        "id": "view-in-github",
        "colab_type": "text"
      },
      "source": [
        "<a href=\"https://colab.research.google.com/github/k-washi/3d-Bonet-Boost/blob/master/notebook/bonet_s3dis_eval.ipynb\" target=\"_parent\"><img src=\"https://colab.research.google.com/assets/colab-badge.svg\" alt=\"Open In Colab\"/></a>"
      ]
    },
    {
      "cell_type": "markdown",
      "metadata": {
        "id": "XDnzS0fy3eA5",
        "colab_type": "text"
      },
      "source": [
        "# 3D - BoNetのスタート\n",
        "\n",
        "データセットは、[Stanford 2D-3D-Semantics Dataset](http://buildingparser.stanford.edu/dataset.html)\n",
        "\n",
        "h5データへの変更は、[pqhieu/jsis3d](https://github.com/pqhieu/jsis3d/blob/master/scripts/prepare_h5.py)にて提供されている。\n",
        "また、データセットのh5 versionは、以下の3D-BoNetのリポジトリからダウンロードできる。"
      ]
    },
    {
      "cell_type": "markdown",
      "metadata": {
        "id": "6Mt7dRrpwEFJ",
        "colab_type": "text"
      },
      "source": [
        "\n",
        "# 3D-BoNetのインストール\n",
        "[Learning Object Bounding Boxes for 3D Instance Segmentation on Point Clouds](https://arxiv.org/abs/1906.01140)\n",
        "\n",
        "https://github.com/Yang7879/3D-BoNet\n",
        "---\n",
        "\n"
      ]
    },
    {
      "cell_type": "code",
      "metadata": {
        "id": "MNwNreQc_2R1",
        "colab_type": "code",
        "colab": {}
      },
      "source": [
        "!rm -rf 3D-BoNet"
      ],
      "execution_count": 0,
      "outputs": []
    },
    {
      "cell_type": "code",
      "metadata": {
        "id": "-SWOSOzqwBMQ",
        "colab_type": "code",
        "outputId": "35ae1771-84d0-4fa0-fde0-4c00c52c7f0d",
        "colab": {
          "base_uri": "https://localhost:8080/",
          "height": 144
        }
      },
      "source": [
        "!git clone https://github.com/k-washi/3D-BoNet.git"
      ],
      "execution_count": 1,
      "outputs": [
        {
          "output_type": "stream",
          "text": [
            "Cloning into '3D-BoNet'...\n",
            "remote: Enumerating objects: 32, done.\u001b[K\n",
            "remote: Counting objects: 100% (32/32), done.\u001b[K\n",
            "remote: Compressing objects: 100% (18/18), done.\u001b[K\n",
            "remote: Total 441 (delta 15), reused 26 (delta 10), pack-reused 409\u001b[K\n",
            "Receiving objects: 100% (441/441), 110.54 MiB | 32.52 MiB/s, done.\n",
            "Resolving deltas: 100% (249/249), done.\n"
          ],
          "name": "stdout"
        }
      ]
    },
    {
      "cell_type": "markdown",
      "metadata": {
        "id": "WOHPX_6twahH",
        "colab_type": "text"
      },
      "source": [
        "# 補助パッケージの取得\n",
        "\n",
        "https://github.com/k-washi/3d-Bonet-Boost"
      ]
    },
    {
      "cell_type": "code",
      "metadata": {
        "id": "zd-Vta1nGPV0",
        "colab_type": "code",
        "colab": {}
      },
      "source": [
        "!rm -rf 3d-Bonet-Boost"
      ],
      "execution_count": 0,
      "outputs": []
    },
    {
      "cell_type": "code",
      "metadata": {
        "id": "IBdX9KGivf9B",
        "colab_type": "code",
        "outputId": "9e79350a-43a8-4d58-f680-0994faee7e64",
        "colab": {
          "base_uri": "https://localhost:8080/",
          "height": 144
        }
      },
      "source": [
        "!git clone https://github.com/k-washi/3d-Bonet-Boost.git"
      ],
      "execution_count": 0,
      "outputs": [
        {
          "output_type": "stream",
          "text": [
            "Cloning into '3d-Bonet-Boost'...\n",
            "remote: Enumerating objects: 184, done.\u001b[K\n",
            "remote: Counting objects:   0% (1/184)\u001b[K\rremote: Counting objects:   1% (2/184)\u001b[K\rremote: Counting objects:   2% (4/184)\u001b[K\rremote: Counting objects:   3% (6/184)\u001b[K\rremote: Counting objects:   4% (8/184)\u001b[K\rremote: Counting objects:   5% (10/184)\u001b[K\rremote: Counting objects:   6% (12/184)\u001b[K\rremote: Counting objects:   7% (13/184)\u001b[K\rremote: Counting objects:   8% (15/184)\u001b[K\rremote: Counting objects:   9% (17/184)\u001b[K\rremote: Counting objects:  10% (19/184)\u001b[K\rremote: Counting objects:  11% (21/184)\u001b[K\rremote: Counting objects:  12% (23/184)\u001b[K\rremote: Counting objects:  13% (24/184)\u001b[K\rremote: Counting objects:  14% (26/184)\u001b[K\rremote: Counting objects:  15% (28/184)\u001b[K\rremote: Counting objects:  16% (30/184)\u001b[K\rremote: Counting objects:  17% (32/184)\u001b[K\rremote: Counting objects:  18% (34/184)\u001b[K\rremote: Counting objects:  19% (35/184)\u001b[K\rremote: Counting objects:  20% (37/184)\u001b[K\rremote: Counting objects:  21% (39/184)\u001b[K\rremote: Counting objects:  22% (41/184)\u001b[K\rremote: Counting objects:  23% (43/184)\u001b[K\rremote: Counting objects:  24% (45/184)\u001b[K\rremote: Counting objects:  25% (46/184)\u001b[K\rremote: Counting objects:  26% (48/184)\u001b[K\rremote: Counting objects:  27% (50/184)\u001b[K\rremote: Counting objects:  28% (52/184)\u001b[K\rremote: Counting objects:  29% (54/184)\u001b[K\rremote: Counting objects:  30% (56/184)\u001b[K\rremote: Counting objects:  31% (58/184)\u001b[K\rremote: Counting objects:  32% (59/184)\u001b[K\rremote: Counting objects:  33% (61/184)\u001b[K\rremote: Counting objects:  34% (63/184)\u001b[K\rremote: Counting objects:  35% (65/184)\u001b[K\rremote: Counting objects:  36% (67/184)\u001b[K\rremote: Counting objects:  37% (69/184)\u001b[K\rremote: Counting objects:  38% (70/184)\u001b[K\rremote: Counting objects:  39% (72/184)\u001b[K\rremote: Counting objects:  40% (74/184)\u001b[K\rremote: Counting objects:  41% (76/184)\u001b[K\rremote: Counting objects:  42% (78/184)\u001b[K\rremote: Counting objects:  43% (80/184)\u001b[K\rremote: Counting objects:  44% (81/184)\u001b[K\rremote: Counting objects:  45% (83/184)\u001b[K\rremote: Counting objects:  46% (85/184)\u001b[K\rremote: Counting objects:  47% (87/184)\u001b[K\rremote: Counting objects:  48% (89/184)\u001b[K\rremote: Counting objects:  49% (91/184)\u001b[K\rremote: Counting objects:  50% (92/184)\u001b[K\rremote: Counting objects:  51% (94/184)\u001b[K\rremote: Counting objects:  52% (96/184)\u001b[K\rremote: Counting objects:  53% (98/184)\u001b[K\rremote: Counting objects:  54% (100/184)\u001b[K\rremote: Counting objects:  55% (102/184)\u001b[K\rremote: Counting objects:  56% (104/184)\u001b[K\rremote: Counting objects:  57% (105/184)\u001b[K\rremote: Counting objects:  58% (107/184)\u001b[K\rremote: Counting objects:  59% (109/184)\u001b[K\rremote: Counting objects:  60% (111/184)\u001b[K\rremote: Counting objects:  61% (113/184)\u001b[K\rremote: Counting objects:  62% (115/184)\u001b[K\rremote: Counting objects:  63% (116/184)\u001b[K\rremote: Counting objects:  64% (118/184)\u001b[K\rremote: Counting objects:  65% (120/184)\u001b[K\rremote: Counting objects:  66% (122/184)\u001b[K\rremote: Counting objects:  67% (124/184)\u001b[K\rremote: Counting objects:  68% (126/184)\u001b[K\rremote: Counting objects:  69% (127/184)\u001b[K\rremote: Counting objects:  70% (129/184)\u001b[K\rremote: Counting objects:  71% (131/184)\u001b[K\rremote: Counting objects:  72% (133/184)\u001b[K\rremote: Counting objects:  73% (135/184)\u001b[K\rremote: Counting objects:  74% (137/184)\u001b[K\rremote: Counting objects:  75% (138/184)\u001b[K\rremote: Counting objects:  76% (140/184)\u001b[K\rremote: Counting objects:  77% (142/184)\u001b[K\rremote: Counting objects:  78% (144/184)\u001b[K\rremote: Counting objects:  79% (146/184)\u001b[K\rremote: Counting objects:  80% (148/184)\u001b[K\rremote: Counting objects:  81% (150/184)\u001b[K\rremote: Counting objects:  82% (151/184)\u001b[K\rremote: Counting objects:  83% (153/184)\u001b[K\rremote: Counting objects:  84% (155/184)\u001b[K\rremote: Counting objects:  85% (157/184)\u001b[K\rremote: Counting objects:  86% (159/184)\u001b[K\rremote: Counting objects:  87% (161/184)\u001b[K\rremote: Counting objects:  88% (162/184)\u001b[K\rremote: Counting objects:  89% (164/184)\u001b[K\rremote: Counting objects:  90% (166/184)\u001b[K\rremote: Counting objects:  91% (168/184)\u001b[K\rremote: Counting objects:  92% (170/184)\u001b[K\rremote: Counting objects:  93% (172/184)\u001b[K\rremote: Counting objects:  94% (173/184)\u001b[K\rremote: Counting objects:  95% (175/184)\u001b[K\rremote: Counting objects:  96% (177/184)\u001b[K\rremote: Counting objects:  97% (179/184)\u001b[K\rremote: Counting objects:  98% (181/184)\u001b[K\rremote: Counting objects:  99% (183/184)\u001b[K\rremote: Counting objects: 100% (184/184)\u001b[K\rremote: Counting objects: 100% (184/184), done.\u001b[K\n",
            "remote: Compressing objects: 100% (142/142), done.\u001b[K\n",
            "remote: Total 184 (delta 92), reused 119 (delta 42), pack-reused 0\u001b[K\n",
            "Receiving objects: 100% (184/184), 22.12 MiB | 19.54 MiB/s, done.\n",
            "Resolving deltas: 100% (92/92), done.\n"
          ],
          "name": "stdout"
        }
      ]
    },
    {
      "cell_type": "markdown",
      "metadata": {
        "id": "hKDCDFcGw9aw",
        "colab_type": "text"
      },
      "source": [
        "#python ライブラリの確認\n",
        "\n",
        "tensorflow 1.15"
      ]
    },
    {
      "cell_type": "code",
      "metadata": {
        "id": "BzrvBJrZwATT",
        "colab_type": "code",
        "outputId": "d0464dff-e18f-4277-881c-b299a68dd716",
        "colab": {
          "base_uri": "https://localhost:8080/",
          "height": 224
        }
      },
      "source": [
        "%tensorflow_version 1.x\n",
        "!pip show tensorflow\n",
        "import tensorflow as tf\n",
        "import timeit\n",
        "\n",
        "device_name = tf.test.gpu_device_name()\n",
        "device_name"
      ],
      "execution_count": 0,
      "outputs": [
        {
          "output_type": "stream",
          "text": [
            "Name: tensorflow\n",
            "Version: 1.15.0\n",
            "Summary: TensorFlow is an open source machine learning framework for everyone.\n",
            "Home-page: https://www.tensorflow.org/\n",
            "Author: Google Inc.\n",
            "Author-email: packages@tensorflow.org\n",
            "License: Apache 2.0\n",
            "Location: /usr/local/lib/python3.6/dist-packages\n",
            "Requires: google-pasta, tensorflow-estimator, numpy, six, wrapt, opt-einsum, termcolor, wheel, keras-applications, tensorboard, astor, grpcio, gast, keras-preprocessing, protobuf, absl-py\n",
            "Required-by: stable-baselines, magenta, fancyimpute\n"
          ],
          "name": "stdout"
        },
        {
          "output_type": "execute_result",
          "data": {
            "text/plain": [
              "'/device:GPU:0'"
            ]
          },
          "metadata": {
            "tags": []
          },
          "execution_count": 3
        }
      ]
    },
    {
      "cell_type": "markdown",
      "metadata": {
        "id": "-GWQa-TC23CZ",
        "colab_type": "text"
      },
      "source": [
        "# データセットのダウンロード\n",
        "\n",
        "Google Driveにデータセットを置くと仮定\n",
        "\n",
        "/content/drive/My Drive/data/Data_S3DIS.zip"
      ]
    },
    {
      "cell_type": "code",
      "metadata": {
        "id": "HV673XOM5TB9",
        "colab_type": "code",
        "outputId": "629dc601-6d05-4640-8efd-d11b3de495aa",
        "colab": {
          "base_uri": "https://localhost:8080/",
          "height": 55
        }
      },
      "source": [
        "from google.colab import drive\n",
        "drive.mount('/content/drive')"
      ],
      "execution_count": 2,
      "outputs": [
        {
          "output_type": "stream",
          "text": [
            "Drive already mounted at /content/drive; to attempt to forcibly remount, call drive.mount(\"/content/drive\", force_remount=True).\n"
          ],
          "name": "stdout"
        }
      ]
    },
    {
      "cell_type": "markdown",
      "metadata": {
        "id": "MM1f2cO4C77H",
        "colab_type": "text"
      },
      "source": [
        "データを解凍"
      ]
    },
    {
      "cell_type": "code",
      "metadata": {
        "id": "FpOKjEhNAzP0",
        "colab_type": "code",
        "outputId": "fb6cf3ad-2429-4346-8ab4-b444f4eaaa4c",
        "colab": {
          "base_uri": "https://localhost:8080/",
          "height": 102
        }
      },
      "source": [
        "!apt-get -y install p7zip-full"
      ],
      "execution_count": 0,
      "outputs": [
        {
          "output_type": "stream",
          "text": [
            "Reading package lists... Done\n",
            "Building dependency tree       \n",
            "Reading state information... Done\n",
            "p7zip-full is already the newest version (16.02+dfsg-6).\n",
            "0 upgraded, 0 newly installed, 0 to remove and 25 not upgraded.\n"
          ],
          "name": "stdout"
        }
      ]
    },
    {
      "cell_type": "code",
      "metadata": {
        "id": "b5sv_oReAzDL",
        "colab_type": "code",
        "colab": {}
      },
      "source": [
        "!mkdir s3dis\n",
        "!unzip /content/drive/My\\ Drive/data/Data_S3DIS.zip -d s3dis > NILL"
      ],
      "execution_count": 0,
      "outputs": []
    },
    {
      "cell_type": "markdown",
      "metadata": {
        "id": "AWhfCyjYDHBy",
        "colab_type": "text"
      },
      "source": [
        "# 3D-BoNet: Compile tensorflow operation by cuda "
      ]
    },
    {
      "cell_type": "code",
      "metadata": {
        "id": "yOK25VjtCiCg",
        "colab_type": "code",
        "colab": {}
      },
      "source": [
        "!cp 3d-Bonet-Boost/cu_compile_v1.15.py 3D-BoNet/tf_ops/cu_compile.py"
      ],
      "execution_count": 0,
      "outputs": []
    },
    {
      "cell_type": "markdown",
      "metadata": {
        "id": "a-c_LkUBEpGE",
        "colab_type": "text"
      },
      "source": [
        "コンパイルに必要なコマンドを出力"
      ]
    },
    {
      "cell_type": "code",
      "metadata": {
        "id": "zS6GsbOuFET5",
        "colab_type": "code",
        "outputId": "4c48a8ea-2326-4c8d-bbfe-62137140ed42",
        "colab": {
          "base_uri": "https://localhost:8080/",
          "height": 187
        }
      },
      "source": [
        "!nvcc --version\n",
        "!which nvcc\n",
        "\n",
        "!ls -l /usr/lib/x86_64-linux-gnu/libcudnn.so*\n",
        "!ls /usr/lib64-nvidia/libcuda*"
      ],
      "execution_count": 0,
      "outputs": [
        {
          "output_type": "stream",
          "text": [
            "nvcc: NVIDIA (R) Cuda compiler driver\n",
            "Copyright (c) 2005-2018 NVIDIA Corporation\n",
            "Built on Sat_Aug_25_21:08:01_CDT_2018\n",
            "Cuda compilation tools, release 10.0, V10.0.130\n",
            "/usr/local/cuda/bin/nvcc\n",
            "lrwxrwxrwx 1 root root        29 Dec  5 22:54 /usr/lib/x86_64-linux-gnu/libcudnn.so -> /etc/alternatives/libcudnn_so\n",
            "lrwxrwxrwx 1 root root        17 Oct 27 21:49 /usr/lib/x86_64-linux-gnu/libcudnn.so.7 -> libcudnn.so.7.6.5\n",
            "-rw-r--r-- 1 root root 428711256 Oct 27 21:49 /usr/lib/x86_64-linux-gnu/libcudnn.so.7.6.5\n",
            "/usr/lib64-nvidia/libcuda.so\t/usr/lib64-nvidia/libcuda.so.418.67\n",
            "/usr/lib64-nvidia/libcuda.so.1\n"
          ],
          "name": "stdout"
        }
      ]
    },
    {
      "cell_type": "code",
      "metadata": {
        "id": "fcfRkw0EWuap",
        "colab_type": "code",
        "outputId": "43427c50-ab22-4518-a394-8390eb406f8e",
        "colab": {
          "base_uri": "https://localhost:8080/",
          "height": 68
        }
      },
      "source": [
        "!ls /usr/local/cuda-10.1/"
      ],
      "execution_count": 0,
      "outputs": [
        {
          "output_type": "stream",
          "text": [
            "bin\textras\t libnsight  nsightee_plugins  README   src\tversion.txt\n",
            "compat\tinclude  libnvvp    nvml\t      samples  targets\n",
            "doc\tlib64\t LICENSE    nvvm\t      share    tools\n"
          ],
          "name": "stdout"
        }
      ]
    },
    {
      "cell_type": "markdown",
      "metadata": {
        "id": "CszWaSBBPB1P",
        "colab_type": "text"
      },
      "source": [
        "compileに必要なcudaディレクトリとGC上で実行することを引数で与える"
      ]
    },
    {
      "cell_type": "code",
      "metadata": {
        "id": "tCtdiJYG22gQ",
        "colab_type": "code",
        "outputId": "7e73a599-b0c8-480c-e25f-97fc3d7b19be",
        "colab": {
          "base_uri": "https://localhost:8080/",
          "height": 164
        }
      },
      "source": [
        "!python 3D-BoNet/tf_ops/cu_compile.py --cuda /usr/local/cuda-10.1 --googleColab"
      ],
      "execution_count": 0,
      "outputs": [
        {
          "output_type": "stream",
          "text": [
            "------------------------------\n",
            " \n",
            "!/usr/local/cuda-10.1/bin/nvcc 3D-BoNet/tf_ops/../tf_ops/grouping/tf_grouping_g.cu -o 3D-BoNet/tf_ops/../tf_ops/grouping/tf_grouping_g.cu.o -c -O2 -DGOOGLE_CUDA=1 -x cu -Xcompiler -fPIC\n",
            "!/usr/local/cuda-10.1/bin/nvcc 3D-BoNet/tf_ops/../tf_ops/sampling/tf_sampling_g.cu -o 3D-BoNet/tf_ops/../tf_ops/sampling/tf_sampling_g.cu.o -c -O2 -DGOOGLE_CUDA=1 -x cu -Xcompiler -fPIC\n",
            "!g++ -std=c++11 3D-BoNet/tf_ops/../tf_ops/grouping/tf_grouping.cpp 3D-BoNet/tf_ops/../tf_ops/grouping/tf_grouping_g.cu.o -o 3D-BoNet/tf_ops/../tf_ops/grouping/tf_grouping_so.so -shared -fPIC -I/tensorflow-1.15.0/python3.6/tensorflow_core/include -D_GLIBCXX_USE_CXX11_ABI=0 -I /usr/local/cuda-10.1/include -I/tensorflow-1.15.0/python3.6/tensorflow_core/include/external/nsync/public -L/tensorflow-1.15.0/python3.6/tensorflow_core -l:libtensorflow_framework.so.1 -lcudart -L /usr/local/cuda-10.1/lib64 -O2\n",
            "!g++ -std=c++11 3D-BoNet/tf_ops/../tf_ops/sampling/tf_sampling.cpp 3D-BoNet/tf_ops/../tf_ops/sampling/tf_sampling_g.cu.o -o 3D-BoNet/tf_ops/../tf_ops/sampling/tf_sampling_so.so -shared -fPIC -I/tensorflow-1.15.0/python3.6/tensorflow_core/include -D_GLIBCXX_USE_CXX11_ABI=0 -I /usr/local/cuda-10.1/include -I/tensorflow-1.15.0/python3.6/tensorflow_core/include/external/nsync/public -L/tensorflow-1.15.0/python3.6/tensorflow_core -l:libtensorflow_framework.so.1 -lcudart -L /usr/local/cuda-10.1/lib64 -O2\n",
            "!g++ -std=c++11 3D-BoNet/tf_ops/../tf_ops/interpolation/tf_interpolate.cpp -o 3D-BoNet/tf_ops/../tf_ops/interpolation/tf_interpolate_so.so -shared -fPIC -I/tensorflow-1.15.0/python3.6/tensorflow_core/include -D_GLIBCXX_USE_CXX11_ABI=0 -I /usr/local/cuda-10.1/include -I/tensorflow-1.15.0/python3.6/tensorflow_core/include/external/nsync/public -L/tensorflow-1.15.0/python3.6/tensorflow_core -l:libtensorflow_framework.so.1 -lcudart -L /usr/local/cuda-10.1/lib64 -O2\n"
          ],
          "name": "stdout"
        }
      ]
    },
    {
      "cell_type": "markdown",
      "metadata": {
        "id": "l8FaSPSvPDIW",
        "colab_type": "text"
      },
      "source": [
        "上のpythonの出力コマンドをコピーして実行 (2020/3/9時点では、以下のコマンド)"
      ]
    },
    {
      "cell_type": "code",
      "metadata": {
        "id": "zNckfc5NxV5e",
        "colab_type": "code",
        "outputId": "ad7d80c0-01c4-4303-9ac2-3d16a31e2645",
        "colab": {
          "base_uri": "https://localhost:8080/",
          "height": 1000
        }
      },
      "source": [
        "!/usr/local/cuda-10.1/bin/nvcc 3D-BoNet/tf_ops/../tf_ops/grouping/tf_grouping_g.cu -o 3D-BoNet/tf_ops/../tf_ops/grouping/tf_grouping_g.cu.o -c -O2 -DGOOGLE_CUDA=1 -x cu -Xcompiler -fPIC\n",
        "!/usr/local/cuda-10.1/bin/nvcc 3D-BoNet/tf_ops/../tf_ops/sampling/tf_sampling_g.cu -o 3D-BoNet/tf_ops/../tf_ops/sampling/tf_sampling_g.cu.o -c -O2 -DGOOGLE_CUDA=1 -x cu -Xcompiler -fPIC\n",
        "!g++ -std=c++11 3D-BoNet/tf_ops/../tf_ops/grouping/tf_grouping.cpp 3D-BoNet/tf_ops/../tf_ops/grouping/tf_grouping_g.cu.o -o 3D-BoNet/tf_ops/../tf_ops/grouping/tf_grouping_so.so -shared -fPIC -I/tensorflow-1.15.0/python3.6/tensorflow_core/include -D_GLIBCXX_USE_CXX11_ABI=0 -I /usr/local/cuda-10.1/include -I/tensorflow-1.15.0/python3.6/tensorflow_core/include/external/nsync/public -L/tensorflow-1.15.0/python3.6/tensorflow_core -l:libtensorflow_framework.so.1 -lcudart -L /usr/local/cuda-10.1/lib64 -O2\n",
        "!g++ -std=c++11 3D-BoNet/tf_ops/../tf_ops/sampling/tf_sampling.cpp 3D-BoNet/tf_ops/../tf_ops/sampling/tf_sampling_g.cu.o -o 3D-BoNet/tf_ops/../tf_ops/sampling/tf_sampling_so.so -shared -fPIC -I/tensorflow-1.15.0/python3.6/tensorflow_core/include -D_GLIBCXX_USE_CXX11_ABI=0 -I /usr/local/cuda-10.1/include -I/tensorflow-1.15.0/python3.6/tensorflow_core/include/external/nsync/public -L/tensorflow-1.15.0/python3.6/tensorflow_core -l:libtensorflow_framework.so.1 -lcudart -L /usr/local/cuda-10.1/lib64 -O2\n",
        "!g++ -std=c++11 3D-BoNet/tf_ops/../tf_ops/interpolation/tf_interpolate.cpp -o 3D-BoNet/tf_ops/../tf_ops/interpolation/tf_interpolate_so.so -shared -fPIC -I/tensorflow-1.15.0/python3.6/tensorflow_core/include -D_GLIBCXX_USE_CXX11_ABI=0 -I /usr/local/cuda-10.1/include -I/tensorflow-1.15.0/python3.6/tensorflow_core/include/external/nsync/public -L/tensorflow-1.15.0/python3.6/tensorflow_core -l:libtensorflow_framework.so.1 -lcudart -L /usr/local/cuda-10.1/lib64 -O2\n"
      ],
      "execution_count": 4,
      "outputs": [
        {
          "output_type": "stream",
          "text": [
            "\u001b[01m\u001b[K3D-BoNet/tf_ops/../tf_ops/grouping/tf_grouping.cpp:\u001b[m\u001b[K In lambda function:\n",
            "\u001b[01m\u001b[K3D-BoNet/tf_ops/../tf_ops/grouping/tf_grouping.cpp:22:44:\u001b[m\u001b[K \u001b[01;35m\u001b[Kwarning: \u001b[m\u001b[Kignoring return value of ‘\u001b[01m\u001b[Ktensorflow::Status tensorflow::shape_inference::InferenceContext::WithRank(tensorflow::shape_inference::ShapeHandle, tensorflow::int64, tensorflow::shape_inference::ShapeHandle*)\u001b[m\u001b[K’, declared with attribute warn_unused_result [\u001b[01;35m\u001b[K-Wunused-result\u001b[m\u001b[K]\n",
            "         c->WithRank(c->input(1), 3, &dims2)\u001b[01;35m\u001b[K;\u001b[m\u001b[K\n",
            "                                            \u001b[01;35m\u001b[K^\u001b[m\u001b[K\n",
            "In file included from \u001b[01m\u001b[K3D-BoNet/tf_ops/../tf_ops/grouping/tf_grouping.cpp:8:0\u001b[m\u001b[K:\n",
            "\u001b[01m\u001b[K/tensorflow-1.15.0/python3.6/tensorflow_core/include/tensorflow/core/framework/shape_inference.h:394:10:\u001b[m\u001b[K \u001b[01;36m\u001b[Knote: \u001b[m\u001b[Kdeclared here\n",
            "   Status \u001b[01;36m\u001b[KWithRank\u001b[m\u001b[K(ShapeHandle shape, int64 rank,\n",
            "          \u001b[01;36m\u001b[K^~~~~~~~\u001b[m\u001b[K\n",
            "\u001b[01m\u001b[K3D-BoNet/tf_ops/../tf_ops/grouping/tf_grouping.cpp:\u001b[m\u001b[K In lambda function:\n",
            "\u001b[01m\u001b[K3D-BoNet/tf_ops/../tf_ops/grouping/tf_grouping.cpp:47:44:\u001b[m\u001b[K \u001b[01;35m\u001b[Kwarning: \u001b[m\u001b[Kignoring return value of ‘\u001b[01m\u001b[Ktensorflow::Status tensorflow::shape_inference::InferenceContext::WithRank(tensorflow::shape_inference::ShapeHandle, tensorflow::int64, tensorflow::shape_inference::ShapeHandle*)\u001b[m\u001b[K’, declared with attribute warn_unused_result [\u001b[01;35m\u001b[K-Wunused-result\u001b[m\u001b[K]\n",
            "         c->WithRank(c->input(0), 3, &dims1)\u001b[01;35m\u001b[K;\u001b[m\u001b[K\n",
            "                                            \u001b[01;35m\u001b[K^\u001b[m\u001b[K\n",
            "In file included from \u001b[01m\u001b[K3D-BoNet/tf_ops/../tf_ops/grouping/tf_grouping.cpp:8:0\u001b[m\u001b[K:\n",
            "\u001b[01m\u001b[K/tensorflow-1.15.0/python3.6/tensorflow_core/include/tensorflow/core/framework/shape_inference.h:394:10:\u001b[m\u001b[K \u001b[01;36m\u001b[Knote: \u001b[m\u001b[Kdeclared here\n",
            "   Status \u001b[01;36m\u001b[KWithRank\u001b[m\u001b[K(ShapeHandle shape, int64 rank,\n",
            "          \u001b[01;36m\u001b[K^~~~~~~~\u001b[m\u001b[K\n",
            "\u001b[01m\u001b[K3D-BoNet/tf_ops/../tf_ops/grouping/tf_grouping.cpp:49:44:\u001b[m\u001b[K \u001b[01;35m\u001b[Kwarning: \u001b[m\u001b[Kignoring return value of ‘\u001b[01m\u001b[Ktensorflow::Status tensorflow::shape_inference::InferenceContext::WithRank(tensorflow::shape_inference::ShapeHandle, tensorflow::int64, tensorflow::shape_inference::ShapeHandle*)\u001b[m\u001b[K’, declared with attribute warn_unused_result [\u001b[01;35m\u001b[K-Wunused-result\u001b[m\u001b[K]\n",
            "         c->WithRank(c->input(1), 3, &dims2)\u001b[01;35m\u001b[K;\u001b[m\u001b[K\n",
            "                                            \u001b[01;35m\u001b[K^\u001b[m\u001b[K\n",
            "In file included from \u001b[01m\u001b[K3D-BoNet/tf_ops/../tf_ops/grouping/tf_grouping.cpp:8:0\u001b[m\u001b[K:\n",
            "\u001b[01m\u001b[K/tensorflow-1.15.0/python3.6/tensorflow_core/include/tensorflow/core/framework/shape_inference.h:394:10:\u001b[m\u001b[K \u001b[01;36m\u001b[Knote: \u001b[m\u001b[Kdeclared here\n",
            "   Status \u001b[01;36m\u001b[KWithRank\u001b[m\u001b[K(ShapeHandle shape, int64 rank,\n",
            "          \u001b[01;36m\u001b[K^~~~~~~~\u001b[m\u001b[K\n",
            "\u001b[01m\u001b[K3D-BoNet/tf_ops/../tf_ops/sampling/tf_sampling.cpp:\u001b[m\u001b[K In lambda function:\n",
            "\u001b[01m\u001b[K3D-BoNet/tf_ops/../tf_ops/sampling/tf_sampling.cpp:20:40:\u001b[m\u001b[K \u001b[01;35m\u001b[Kwarning: \u001b[m\u001b[Kignoring return value of ‘\u001b[01m\u001b[Ktensorflow::Status tensorflow::shape_inference::InferenceContext::WithRank(tensorflow::shape_inference::ShapeHandle, tensorflow::int64, tensorflow::shape_inference::ShapeHandle*)\u001b[m\u001b[K’, declared with attribute warn_unused_result [\u001b[01;35m\u001b[K-Wunused-result\u001b[m\u001b[K]\n",
            "     c->WithRank(c->input(0), 2, &dims1)\u001b[01;35m\u001b[K;\u001b[m\u001b[K\n",
            "                                        \u001b[01;35m\u001b[K^\u001b[m\u001b[K\n",
            "In file included from \u001b[01m\u001b[K3D-BoNet/tf_ops/../tf_ops/sampling/tf_sampling.cpp:8:0\u001b[m\u001b[K:\n",
            "\u001b[01m\u001b[K/tensorflow-1.15.0/python3.6/tensorflow_core/include/tensorflow/core/framework/shape_inference.h:394:10:\u001b[m\u001b[K \u001b[01;36m\u001b[Knote: \u001b[m\u001b[Kdeclared here\n",
            "   Status \u001b[01;36m\u001b[KWithRank\u001b[m\u001b[K(ShapeHandle shape, int64 rank,\n",
            "          \u001b[01;36m\u001b[K^~~~~~~~\u001b[m\u001b[K\n",
            "\u001b[01m\u001b[K3D-BoNet/tf_ops/../tf_ops/sampling/tf_sampling.cpp:22:40:\u001b[m\u001b[K \u001b[01;35m\u001b[Kwarning: \u001b[m\u001b[Kignoring return value of ‘\u001b[01m\u001b[Ktensorflow::Status tensorflow::shape_inference::InferenceContext::WithRank(tensorflow::shape_inference::ShapeHandle, tensorflow::int64, tensorflow::shape_inference::ShapeHandle*)\u001b[m\u001b[K’, declared with attribute warn_unused_result [\u001b[01;35m\u001b[K-Wunused-result\u001b[m\u001b[K]\n",
            "     c->WithRank(c->input(1), 2, &dims2)\u001b[01;35m\u001b[K;\u001b[m\u001b[K\n",
            "                                        \u001b[01;35m\u001b[K^\u001b[m\u001b[K\n",
            "In file included from \u001b[01m\u001b[K3D-BoNet/tf_ops/../tf_ops/sampling/tf_sampling.cpp:8:0\u001b[m\u001b[K:\n",
            "\u001b[01m\u001b[K/tensorflow-1.15.0/python3.6/tensorflow_core/include/tensorflow/core/framework/shape_inference.h:394:10:\u001b[m\u001b[K \u001b[01;36m\u001b[Knote: \u001b[m\u001b[Kdeclared here\n",
            "   Status \u001b[01;36m\u001b[KWithRank\u001b[m\u001b[K(ShapeHandle shape, int64 rank,\n",
            "          \u001b[01;36m\u001b[K^~~~~~~~\u001b[m\u001b[K\n",
            "\u001b[01m\u001b[K3D-BoNet/tf_ops/../tf_ops/sampling/tf_sampling.cpp:\u001b[m\u001b[K In lambda function:\n",
            "\u001b[01m\u001b[K3D-BoNet/tf_ops/../tf_ops/sampling/tf_sampling.cpp:34:40:\u001b[m\u001b[K \u001b[01;35m\u001b[Kwarning: \u001b[m\u001b[Kignoring return value of ‘\u001b[01m\u001b[Ktensorflow::Status tensorflow::shape_inference::InferenceContext::WithRank(tensorflow::shape_inference::ShapeHandle, tensorflow::int64, tensorflow::shape_inference::ShapeHandle*)\u001b[m\u001b[K’, declared with attribute warn_unused_result [\u001b[01;35m\u001b[K-Wunused-result\u001b[m\u001b[K]\n",
            "     c->WithRank(c->input(0), 3, &dims1)\u001b[01;35m\u001b[K;\u001b[m\u001b[K\n",
            "                                        \u001b[01;35m\u001b[K^\u001b[m\u001b[K\n",
            "In file included from \u001b[01m\u001b[K3D-BoNet/tf_ops/../tf_ops/sampling/tf_sampling.cpp:8:0\u001b[m\u001b[K:\n",
            "\u001b[01m\u001b[K/tensorflow-1.15.0/python3.6/tensorflow_core/include/tensorflow/core/framework/shape_inference.h:394:10:\u001b[m\u001b[K \u001b[01;36m\u001b[Knote: \u001b[m\u001b[Kdeclared here\n",
            "   Status \u001b[01;36m\u001b[KWithRank\u001b[m\u001b[K(ShapeHandle shape, int64 rank,\n",
            "          \u001b[01;36m\u001b[K^~~~~~~~\u001b[m\u001b[K\n",
            "\u001b[01m\u001b[K3D-BoNet/tf_ops/../tf_ops/sampling/tf_sampling.cpp:\u001b[m\u001b[K In lambda function:\n",
            "\u001b[01m\u001b[K3D-BoNet/tf_ops/../tf_ops/sampling/tf_sampling.cpp:47:40:\u001b[m\u001b[K \u001b[01;35m\u001b[Kwarning: \u001b[m\u001b[Kignoring return value of ‘\u001b[01m\u001b[Ktensorflow::Status tensorflow::shape_inference::InferenceContext::WithRank(tensorflow::shape_inference::ShapeHandle, tensorflow::int64, tensorflow::shape_inference::ShapeHandle*)\u001b[m\u001b[K’, declared with attribute warn_unused_result [\u001b[01;35m\u001b[K-Wunused-result\u001b[m\u001b[K]\n",
            "     c->WithRank(c->input(0), 3, &dims1)\u001b[01;35m\u001b[K;\u001b[m\u001b[K\n",
            "                                        \u001b[01;35m\u001b[K^\u001b[m\u001b[K\n",
            "In file included from \u001b[01m\u001b[K3D-BoNet/tf_ops/../tf_ops/sampling/tf_sampling.cpp:8:0\u001b[m\u001b[K:\n",
            "\u001b[01m\u001b[K/tensorflow-1.15.0/python3.6/tensorflow_core/include/tensorflow/core/framework/shape_inference.h:394:10:\u001b[m\u001b[K \u001b[01;36m\u001b[Knote: \u001b[m\u001b[Kdeclared here\n",
            "   Status \u001b[01;36m\u001b[KWithRank\u001b[m\u001b[K(ShapeHandle shape, int64 rank,\n",
            "          \u001b[01;36m\u001b[K^~~~~~~~\u001b[m\u001b[K\n",
            "\u001b[01m\u001b[K3D-BoNet/tf_ops/../tf_ops/sampling/tf_sampling.cpp:49:40:\u001b[m\u001b[K \u001b[01;35m\u001b[Kwarning: \u001b[m\u001b[Kignoring return value of ‘\u001b[01m\u001b[Ktensorflow::Status tensorflow::shape_inference::InferenceContext::WithRank(tensorflow::shape_inference::ShapeHandle, tensorflow::int64, tensorflow::shape_inference::ShapeHandle*)\u001b[m\u001b[K’, declared with attribute warn_unused_result [\u001b[01;35m\u001b[K-Wunused-result\u001b[m\u001b[K]\n",
            "     c->WithRank(c->input(1), 2, &dims2)\u001b[01;35m\u001b[K;\u001b[m\u001b[K\n",
            "                                        \u001b[01;35m\u001b[K^\u001b[m\u001b[K\n",
            "In file included from \u001b[01m\u001b[K3D-BoNet/tf_ops/../tf_ops/sampling/tf_sampling.cpp:8:0\u001b[m\u001b[K:\n",
            "\u001b[01m\u001b[K/tensorflow-1.15.0/python3.6/tensorflow_core/include/tensorflow/core/framework/shape_inference.h:394:10:\u001b[m\u001b[K \u001b[01;36m\u001b[Knote: \u001b[m\u001b[Kdeclared here\n",
            "   Status \u001b[01;36m\u001b[KWithRank\u001b[m\u001b[K(ShapeHandle shape, int64 rank,\n",
            "          \u001b[01;36m\u001b[K^~~~~~~~\u001b[m\u001b[K\n",
            "\u001b[01m\u001b[K3D-BoNet/tf_ops/../tf_ops/interpolation/tf_interpolate.cpp:\u001b[m\u001b[K In lambda function:\n",
            "\u001b[01m\u001b[K3D-BoNet/tf_ops/../tf_ops/interpolation/tf_interpolate.cpp:29:44:\u001b[m\u001b[K \u001b[01;35m\u001b[Kwarning: \u001b[m\u001b[Kignoring return value of ‘\u001b[01m\u001b[Ktensorflow::Status tensorflow::shape_inference::InferenceContext::WithRank(tensorflow::shape_inference::ShapeHandle, tensorflow::int64, tensorflow::shape_inference::ShapeHandle*)\u001b[m\u001b[K’, declared with attribute warn_unused_result [\u001b[01;35m\u001b[K-Wunused-result\u001b[m\u001b[K]\n",
            "         c->WithRank(c->input(0), 3, &dims1)\u001b[01;35m\u001b[K;\u001b[m\u001b[K\n",
            "                                            \u001b[01;35m\u001b[K^\u001b[m\u001b[K\n",
            "In file included from \u001b[01m\u001b[K3D-BoNet/tf_ops/../tf_ops/interpolation/tf_interpolate.cpp:8:0\u001b[m\u001b[K:\n",
            "\u001b[01m\u001b[K/tensorflow-1.15.0/python3.6/tensorflow_core/include/tensorflow/core/framework/shape_inference.h:394:10:\u001b[m\u001b[K \u001b[01;36m\u001b[Knote: \u001b[m\u001b[Kdeclared here\n",
            "   Status \u001b[01;36m\u001b[KWithRank\u001b[m\u001b[K(ShapeHandle shape, int64 rank,\n",
            "          \u001b[01;36m\u001b[K^~~~~~~~\u001b[m\u001b[K\n",
            "\u001b[01m\u001b[K3D-BoNet/tf_ops/../tf_ops/interpolation/tf_interpolate.cpp:31:44:\u001b[m\u001b[K \u001b[01;35m\u001b[Kwarning: \u001b[m\u001b[Kignoring return value of ‘\u001b[01m\u001b[Ktensorflow::Status tensorflow::shape_inference::InferenceContext::WithRank(tensorflow::shape_inference::ShapeHandle, tensorflow::int64, tensorflow::shape_inference::ShapeHandle*)\u001b[m\u001b[K’, declared with attribute warn_unused_result [\u001b[01;35m\u001b[K-Wunused-result\u001b[m\u001b[K]\n",
            "         c->WithRank(c->input(1), 3, &dims2)\u001b[01;35m\u001b[K;\u001b[m\u001b[K\n",
            "                                            \u001b[01;35m\u001b[K^\u001b[m\u001b[K\n",
            "In file included from \u001b[01m\u001b[K3D-BoNet/tf_ops/../tf_ops/interpolation/tf_interpolate.cpp:8:0\u001b[m\u001b[K:\n",
            "\u001b[01m\u001b[K/tensorflow-1.15.0/python3.6/tensorflow_core/include/tensorflow/core/framework/shape_inference.h:394:10:\u001b[m\u001b[K \u001b[01;36m\u001b[Knote: \u001b[m\u001b[Kdeclared here\n",
            "   Status \u001b[01;36m\u001b[KWithRank\u001b[m\u001b[K(ShapeHandle shape, int64 rank,\n",
            "          \u001b[01;36m\u001b[K^~~~~~~~\u001b[m\u001b[K\n"
          ],
          "name": "stdout"
        }
      ]
    },
    {
      "cell_type": "code",
      "metadata": {
        "id": "9vtqjczBmOxT",
        "colab_type": "code",
        "outputId": "43ef4076-2cb2-43cc-ec67-1d26a33ea7cd",
        "colab": {
          "base_uri": "https://localhost:8080/",
          "height": 53
        }
      },
      "source": [
        "!ls 3D-BoNet/tf_ops/sampling/"
      ],
      "execution_count": 5,
      "outputs": [
        {
          "output_type": "stream",
          "text": [
            "__init__.py\t\ttf_sampling.cpp   tf_sampling_g.cu.o  tf_sampling_so.so\n",
            "tf_sampling_compile.sh\ttf_sampling_g.cu  tf_sampling.py\n"
          ],
          "name": "stdout"
        }
      ]
    },
    {
      "cell_type": "markdown",
      "metadata": {
        "id": "a_T-EMZAQATo",
        "colab_type": "text"
      },
      "source": [
        "# 3D-BoNet の学習を実行する"
      ]
    },
    {
      "cell_type": "code",
      "metadata": {
        "id": "cqfvoSEhQHMn",
        "colab_type": "code",
        "colab": {}
      },
      "source": [
        "import sys\n",
        "sys.path.append('/content/3D-BoNet/')"
      ],
      "execution_count": 0,
      "outputs": []
    },
    {
      "cell_type": "code",
      "metadata": {
        "id": "_M68A471Rh4i",
        "colab_type": "code",
        "colab": {}
      },
      "source": [
        "import os\n",
        "%tensorflow_version 1.x \n",
        "import tensorflow as tf\n",
        "\n",
        "os.environ[\"CUDA_DEVICE_ORDER\"] = \"PCI_BUS_ID\"\n",
        "os.environ[\"CUDA_VISIBLE_DEVICES\"] = '0'  ## specify the GPU to use"
      ],
      "execution_count": 0,
      "outputs": []
    },
    {
      "cell_type": "code",
      "metadata": {
        "id": "CDzfs4qmaqRG",
        "colab_type": "code",
        "colab": {}
      },
      "source": [
        "train_areas =['Area_1', 'Area_2'  ,'Area_3', 'Area_4', 'Area_6']\n",
        "test_areas =['Area_5']\n",
        "\n",
        "dataset_path = './s3dis/'\n",
        "\n",
        "model_path ='./3D-BoNet/model/20312/model095.cptk'\n",
        "result_path = './log/test_res/' + test_areas[0] + '/'\n"
      ],
      "execution_count": 0,
      "outputs": []
    },
    {
      "cell_type": "code",
      "metadata": {
        "id": "32kJcBJBnMVQ",
        "colab_type": "code",
        "colab": {}
      },
      "source": [
        "from main_eval import Evaluation"
      ],
      "execution_count": 0,
      "outputs": []
    },
    {
      "cell_type": "code",
      "metadata": {
        "id": "afq-LFlblWDs",
        "colab_type": "code",
        "colab": {}
      },
      "source": [
        "from tensorflow.python.framework import ops\n",
        "ops.reset_default_graph()"
      ],
      "execution_count": 0,
      "outputs": []
    },
    {
      "cell_type": "code",
      "metadata": {
        "id": "Z_msLN69nu8h",
        "colab_type": "code",
        "outputId": "f3bb54f4-0abe-4042-da13-febf2b658822",
        "colab": {
          "base_uri": "https://localhost:8080/",
          "height": 1000
        }
      },
      "source": [
        "net, data = Evaluation.load_net_data(dataset_path, train_areas, test_areas, model_path)\n",
        "net.creat_folders(name='log', re_train=False)\n",
        "Evaluation.ttest(net, data, result_path, test_batch_size=20)\n",
        "Evaluation.evaluation(dataset_path, train_areas, result_path)"
      ],
      "execution_count": 12,
      "outputs": [
        {
          "output_type": "stream",
          "text": [
            "WARNING:tensorflow:From /content/3D-BoNet/main_eval.py:105: The name tf.placeholder is deprecated. Please use tf.compat.v1.placeholder instead.\n",
            "\n",
            "WARNING:tensorflow:From /content/3D-BoNet/main_eval.py:107: The name tf.variable_scope is deprecated. Please use tf.compat.v1.variable_scope instead.\n",
            "\n",
            "/content\n",
            "WARNING:tensorflow:\n",
            "The TensorFlow contrib module will not be included in TensorFlow 2.0.\n",
            "For more information, please see:\n",
            "  * https://github.com/tensorflow/community/blob/master/rfcs/20180907-contrib-sunset.md\n",
            "  * https://github.com/tensorflow/addons\n",
            "  * https://github.com/tensorflow/io (for I/O related ops)\n",
            "If you depend on functionality not listed there, please file an issue.\n",
            "\n",
            "WARNING:tensorflow:From /content/3D-BoNet/helper_net.py:65: The name tf.get_variable is deprecated. Please use tf.compat.v1.get_variable instead.\n",
            "\n",
            "WARNING:tensorflow:From /content/3D-BoNet/helper_net.py:29: The name tf.summary.scalar is deprecated. Please use tf.compat.v1.summary.scalar instead.\n",
            "\n",
            "WARNING:tensorflow:From /content/3D-BoNet/helper_net.py:34: The name tf.summary.histogram is deprecated. Please use tf.compat.v1.summary.histogram instead.\n",
            "\n",
            "WARNING:tensorflow:From /content/3D-BoNet/helper_pointnet2.py:128: calling reduce_max_v1 (from tensorflow.python.ops.math_ops) with keep_dims is deprecated and will be removed in a future version.\n",
            "Instructions for updating:\n",
            "keep_dims is deprecated, use keepdims instead\n",
            "WARNING:tensorflow:From /content/3D-BoNet/helper_pointnet2.py:216: calling reduce_sum_v1 (from tensorflow.python.ops.math_ops) with keep_dims is deprecated and will be removed in a future version.\n",
            "Instructions for updating:\n",
            "keep_dims is deprecated, use keepdims instead\n",
            "WARNING:tensorflow:From /content/3D-BoNet/helper_net.py:75: calling dropout (from tensorflow.python.ops.nn_ops) with keep_prob is deprecated and will be removed in a future version.\n",
            "Instructions for updating:\n",
            "Please use `rate` instead of `keep_prob`. Rate should be set to `rate = 1 - keep_prob`.\n",
            "WARNING:tensorflow:From /content/3D-BoNet/main_eval.py:120: The name tf.ConfigProto is deprecated. Please use tf.compat.v1.ConfigProto instead.\n",
            "\n",
            "WARNING:tensorflow:From /content/3D-BoNet/main_eval.py:122: The name tf.Session is deprecated. Please use tf.compat.v1.Session instead.\n",
            "\n",
            "WARNING:tensorflow:From /content/3D-BoNet/main_eval.py:123: The name tf.train.Saver is deprecated. Please use tf.compat.v1.train.Saver instead.\n",
            "\n",
            "INFO:tensorflow:Restoring parameters from ./3D-BoNet/model/20312/model095.cptk\n",
            "Model restored sucessful!\n",
            "check area: Area_1\n",
            "check area: Area_2\n",
            "check area: Area_3\n",
            "check area: Area_4\n",
            "check area: Area_6\n",
            "check area: Area_5\n",
            "train files: 16733\n",
            "test files: 6852\n",
            "re_train: False\n",
            "./log/test_sum/ : created!\n",
            "./log/train_sum/ : created!\n",
            "./log/train_mod/ : created!\n",
            "total_test_batch_num_sq 6852\n",
            "test scene: Area_5_WC_1.h5\n",
            "test scene: Area_5_WC_2.h5\n",
            "test scene: Area_5_conferenceRoom_1.h5\n",
            "test scene: Area_5_conferenceRoom_2.h5\n",
            "test scene: Area_5_conferenceRoom_3.h5\n",
            "test scene: Area_5_hallway_1.h5\n",
            "test scene: Area_5_hallway_10.h5\n",
            "test scene: Area_5_hallway_11.h5\n",
            "test scene: Area_5_hallway_12.h5\n",
            "test scene: Area_5_hallway_13.h5\n",
            "test scene: Area_5_hallway_14.h5\n",
            "test scene: Area_5_hallway_15.h5\n",
            "test scene: Area_5_hallway_2.h5\n",
            "test scene: Area_5_hallway_3.h5\n",
            "test scene: Area_5_hallway_4.h5\n",
            "test scene: Area_5_hallway_5.h5\n",
            "test scene: Area_5_hallway_6.h5\n",
            "test scene: Area_5_hallway_7.h5\n",
            "test scene: Area_5_hallway_8.h5\n",
            "test scene: Area_5_hallway_9.h5\n",
            "test scene: Area_5_lobby_1.h5\n",
            "test scene: Area_5_office_1.h5\n",
            "test scene: Area_5_office_10.h5\n",
            "test scene: Area_5_office_11.h5\n",
            "test scene: Area_5_office_12.h5\n",
            "test scene: Area_5_office_13.h5\n",
            "test scene: Area_5_office_14.h5\n",
            "test scene: Area_5_office_15.h5\n",
            "test scene: Area_5_office_16.h5\n",
            "test scene: Area_5_office_17.h5\n",
            "test scene: Area_5_office_18.h5\n",
            "test scene: Area_5_office_19.h5\n",
            "test scene: Area_5_office_2.h5\n",
            "test scene: Area_5_office_20.h5\n",
            "test scene: Area_5_office_21.h5\n",
            "test scene: Area_5_office_22.h5\n",
            "test scene: Area_5_office_23.h5\n",
            "test scene: Area_5_office_24.h5\n",
            "test scene: Area_5_office_25.h5\n",
            "test scene: Area_5_office_26.h5\n",
            "test scene: Area_5_office_27.h5\n",
            "test scene: Area_5_office_28.h5\n",
            "test scene: Area_5_office_29.h5\n",
            "test scene: Area_5_office_3.h5\n",
            "test scene: Area_5_office_30.h5\n",
            "test scene: Area_5_office_31.h5\n",
            "test scene: Area_5_office_32.h5\n",
            "test scene: Area_5_office_33.h5\n",
            "test scene: Area_5_office_34.h5\n",
            "test scene: Area_5_office_35.h5\n",
            "test scene: Area_5_office_36.h5\n",
            "test scene: Area_5_office_37.h5\n",
            "test scene: Area_5_office_38.h5\n",
            "test scene: Area_5_office_39.h5\n",
            "test scene: Area_5_office_4.h5\n",
            "test scene: Area_5_office_40.h5\n",
            "test scene: Area_5_office_41.h5\n",
            "test scene: Area_5_office_42.h5\n",
            "test scene: Area_5_office_5.h5\n",
            "test scene: Area_5_office_6.h5\n",
            "test scene: Area_5_office_7.h5\n",
            "test scene: Area_5_office_8.h5\n",
            "test scene: Area_5_office_9.h5\n",
            "test scene: Area_5_pantry_1.h5\n",
            "test scene: Area_5_storage_1.h5\n",
            "test scene: Area_5_storage_2.h5\n",
            "test scene: Area_5_storage_3.h5\n",
            "test scene: Area_5_storage_4.h5\n",
            "get mean insSize, check train area: Area_1\n",
            "get mean insSize, check train area: Area_2\n",
            "get mean insSize, check train area: Area_3\n",
            "get mean insSize, check train area: Area_4\n",
            "get mean insSize, check train area: Area_6\n",
            "eval scene Area_5_WC_1.h5.mat\n",
            "eval scene Area_5_WC_2.h5.mat\n",
            "eval scene Area_5_conferenceRoom_1.h5.mat\n",
            "eval scene Area_5_conferenceRoom_2.h5.mat\n",
            "eval scene Area_5_conferenceRoom_3.h5.mat\n",
            "eval scene Area_5_hallway_1.h5.mat\n",
            "eval scene Area_5_hallway_10.h5.mat\n",
            "eval scene Area_5_hallway_11.h5.mat\n",
            "eval scene Area_5_hallway_12.h5.mat\n",
            "eval scene Area_5_hallway_13.h5.mat\n",
            "eval scene Area_5_hallway_14.h5.mat\n",
            "eval scene Area_5_hallway_15.h5.mat\n",
            "eval scene Area_5_hallway_2.h5.mat\n",
            "eval scene Area_5_hallway_3.h5.mat\n",
            "eval scene Area_5_hallway_4.h5.mat\n",
            "eval scene Area_5_hallway_5.h5.mat\n",
            "eval scene Area_5_hallway_6.h5.mat\n",
            "eval scene Area_5_hallway_7.h5.mat\n",
            "eval scene Area_5_hallway_8.h5.mat\n",
            "eval scene Area_5_hallway_9.h5.mat\n",
            "eval scene Area_5_lobby_1.h5.mat\n",
            "eval scene Area_5_office_1.h5.mat\n",
            "eval scene Area_5_office_10.h5.mat\n",
            "eval scene Area_5_office_11.h5.mat\n",
            "eval scene Area_5_office_12.h5.mat\n",
            "eval scene Area_5_office_13.h5.mat\n",
            "eval scene Area_5_office_14.h5.mat\n",
            "eval scene Area_5_office_15.h5.mat\n",
            "eval scene Area_5_office_16.h5.mat\n",
            "eval scene Area_5_office_17.h5.mat\n",
            "eval scene Area_5_office_18.h5.mat\n",
            "eval scene Area_5_office_19.h5.mat\n",
            "eval scene Area_5_office_2.h5.mat\n",
            "eval scene Area_5_office_20.h5.mat\n",
            "eval scene Area_5_office_21.h5.mat\n",
            "eval scene Area_5_office_22.h5.mat\n",
            "eval scene Area_5_office_23.h5.mat\n",
            "eval scene Area_5_office_24.h5.mat\n",
            "eval scene Area_5_office_25.h5.mat\n",
            "eval scene Area_5_office_26.h5.mat\n",
            "eval scene Area_5_office_27.h5.mat\n",
            "eval scene Area_5_office_28.h5.mat\n",
            "eval scene Area_5_office_29.h5.mat\n",
            "eval scene Area_5_office_3.h5.mat\n",
            "eval scene Area_5_office_30.h5.mat\n",
            "eval scene Area_5_office_31.h5.mat\n",
            "eval scene Area_5_office_32.h5.mat\n",
            "eval scene Area_5_office_33.h5.mat\n",
            "eval scene Area_5_office_34.h5.mat\n",
            "eval scene Area_5_office_35.h5.mat\n",
            "eval scene Area_5_office_36.h5.mat\n",
            "eval scene Area_5_office_37.h5.mat\n",
            "eval scene Area_5_office_38.h5.mat\n",
            "eval scene Area_5_office_39.h5.mat\n",
            "eval scene Area_5_office_4.h5.mat\n",
            "eval scene Area_5_office_40.h5.mat\n",
            "eval scene Area_5_office_41.h5.mat\n",
            "eval scene Area_5_office_42.h5.mat\n",
            "eval scene Area_5_office_5.h5.mat\n",
            "eval scene Area_5_office_6.h5.mat\n",
            "eval scene Area_5_office_7.h5.mat\n",
            "eval scene Area_5_office_8.h5.mat\n",
            "eval scene Area_5_office_9.h5.mat\n",
            "eval scene Area_5_pantry_1.h5.mat\n",
            "eval scene Area_5_storage_1.h5.mat\n",
            "eval scene Area_5_storage_2.h5.mat\n",
            "eval scene Area_5_storage_3.h5.mat\n",
            "eval scene Area_5_storage_4.h5.mat\n"
          ],
          "name": "stdout"
        },
        {
          "output_type": "execute_result",
          "data": {
            "text/plain": [
              "0"
            ]
          },
          "metadata": {
            "tags": []
          },
          "execution_count": 12
        }
      ]
    }
  ]
}